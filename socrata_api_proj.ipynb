{
 "cells": [
  {
   "cell_type": "markdown",
   "id": "0ac0deee",
   "metadata": {},
   "source": [
    "UNData API Exercise\n",
    "In this exercise, you'll redo the data gathering phase of the UNData Exploration project by using APIs instead of downloading csv files.\n",
    "\n",
    "You'll make use of the World Bank Indicators API. Note that this API does not require an API key. Before attempting the exercise, it would be a good idea to skim through the Documentation page and to check out the Basic Call Structure article."
   ]
  },
  {
   "cell_type": "code",
   "execution_count": 226,
   "id": "dd878937",
   "metadata": {},
   "outputs": [],
   "source": [
    "# Import libraries\n",
    "import pandas as pd\n",
    "import requests"
   ]
  },
  {
   "cell_type": "markdown",
   "id": "3819d0be",
   "metadata": {},
   "source": [
    "1. Use the API to get all available data for the GDP per capita, PPP (constant 2017 international $) indicator. Hint: this indicator has code \"NY.GDP.PCAP.PP.KD\". Adjust the query parameters so that you can retrieve all available rows. Convert the results to a DataFrame."
   ]
  },
  {
   "cell_type": "code",
   "execution_count": 227,
   "id": "91c6b0ae",
   "metadata": {},
   "outputs": [
    {
     "name": "stdout",
     "output_type": "stream",
     "text": [
      "<Response [200]>\n"
     ]
    }
   ],
   "source": [
    "# Set API endpoint\n",
    "indicator = 'NY.GDP.PCAP.PP.KD'\n",
    "# Use &per_page=1000 to bring back 1000 rows per page instead of the default 50 rows to reduce API requests from 346 to 18\n",
    "endpoint = f'https://api.worldbank.org/v2/country/all/indicator/{indicator}?format=json&per_page=1000'\n",
    "\n",
    "# Request to API using GET\n",
    "response = requests.get(endpoint)\n",
    "\n",
    "# Check response\n",
    "print(response)"
   ]
  },
  {
   "cell_type": "code",
   "execution_count": 228,
   "id": "8016656a",
   "metadata": {},
   "outputs": [
    {
     "name": "stdout",
     "output_type": "stream",
     "text": [
      "API response (gdpdata)\n",
      "<class 'list'>\n",
      "2\n",
      "{'page': 1, 'pages': 18, 'per_page': 1000, 'total': 17290, 'sourceid': '2', 'lastupdated': '2025-10-07'}\n",
      "[{'indicator': {'id': 'NY.GDP.PCAP.PP.KD', 'value': 'GDP per capita, PPP (constant 2021 international $)'}, 'country': {'id': 'ZH', 'value': 'Africa Eastern and Southern'}, 'countryiso3code': 'AFE', 'date': '2024', 'value': 3968.96375122681, 'unit': '', 'obs_status': '', 'decimal': 0}, {'indicator': {'id': 'NY.GDP.PCAP.PP.KD', 'value': 'GDP per capita, PPP (constant 2021 international $)'}, 'country': {'id': 'ZH', 'value': 'Africa Eastern and Southern'}, 'countryiso3code': 'AFE', 'date': '2023', 'value': 3948.14272105098, 'unit': '', 'obs_status': '', 'decimal': 0}]\n"
     ]
    }
   ],
   "source": [
    "# Save json response in a variable\n",
    "gdpdata = response.json()\n",
    "\n",
    "# Look at what gdpdata variable contains\n",
    "print('API response (gdpdata)')\n",
    "print(type(gdpdata))         # <class 'list'>\n",
    "print(len(gdpdata))          # 2 (metadata + actual data)\n",
    "print(gdpdata[0])            # metadata: page info, total rows\n",
    "print(gdpdata[1][:2])        # first 2 rows of actual data"
   ]
  },
  {
   "cell_type": "code",
   "execution_count": 229,
   "id": "e0571e39",
   "metadata": {},
   "outputs": [
    {
     "name": "stdout",
     "output_type": "stream",
     "text": [
      "Total pages to fetch: 18\n"
     ]
    }
   ],
   "source": [
    "# Get total number of pages\n",
    "total_pages = gdpdata[0]['pages']\n",
    "print(f'Total pages to fetch: {total_pages}')"
   ]
  },
  {
   "cell_type": "code",
   "execution_count": 230,
   "id": "3dd40ec9",
   "metadata": {},
   "outputs": [
    {
     "name": "stdout",
     "output_type": "stream",
     "text": [
      "Fetching page 3 of 18...\n",
      "Fetching page 6 of 18...\n",
      "Fetching page 9 of 18...\n",
      "Fetching page 12 of 18...\n",
      "Fetching page 15 of 18...\n",
      "Fetching page 18 of 18...\n",
      "All pages fetched successfully!\n",
      "Total records = 17290\n",
      "Records collected = 17290\n"
     ]
    }
   ],
   "source": [
    "# Create list to store all results\n",
    "all_gdp_data = []\n",
    "\n",
    "# Loop through all pages and collect data\n",
    "for page in range(1, total_pages + 1):\n",
    "    page_response = requests.get(f'{endpoint}&page={page}')\n",
    "    page_data = page_response.json()\n",
    "    all_gdp_data += page_data[1]\n",
    "\n",
    "# Progress print: every 3 pages and on the last page\n",
    "    if page % 3 == 0 or page == total_pages:\n",
    "        print(f'Fetching page {page} of {total_pages}...')\n",
    "\n",
    "# Final confirmation\n",
    "print('All pages fetched successfully!')\n",
    "print(f'Total records = 17290')\n",
    "print(f'Records collected = {len(all_gdp_data)}')"
   ]
  },
  {
   "cell_type": "code",
   "execution_count": 231,
   "id": "b42ea9b3",
   "metadata": {},
   "outputs": [
    {
     "name": "stdout",
     "output_type": "stream",
     "text": [
      "Empty DataFrame created and all data added\n",
      "Shape: (17290, 8)\n",
      "<class 'pandas.core.frame.DataFrame'>\n",
      "RangeIndex: 17290 entries, 0 to 17289\n",
      "Data columns (total 8 columns):\n",
      " #   Column           Non-Null Count  Dtype  \n",
      "---  ------           --------------  -----  \n",
      " 0   indicator        17290 non-null  object \n",
      " 1   country          17290 non-null  object \n",
      " 2   countryiso3code  17290 non-null  object \n",
      " 3   date             17290 non-null  object \n",
      " 4   value            8461 non-null   float64\n",
      " 5   unit             17290 non-null  object \n",
      " 6   obs_status       17290 non-null  object \n",
      " 7   decimal          17290 non-null  int64  \n",
      "dtypes: float64(1), int64(1), object(6)\n",
      "memory usage: 1.1+ MB\n",
      "None\n"
     ]
    },
    {
     "data": {
      "application/vnd.microsoft.datawrangler.viewer.v0+json": {
       "columns": [
        {
         "name": "index",
         "rawType": "int64",
         "type": "integer"
        },
        {
         "name": "indicator",
         "rawType": "object",
         "type": "unknown"
        },
        {
         "name": "country",
         "rawType": "object",
         "type": "unknown"
        },
        {
         "name": "countryiso3code",
         "rawType": "object",
         "type": "string"
        },
        {
         "name": "date",
         "rawType": "object",
         "type": "string"
        },
        {
         "name": "value",
         "rawType": "float64",
         "type": "float"
        },
        {
         "name": "unit",
         "rawType": "object",
         "type": "string"
        },
        {
         "name": "obs_status",
         "rawType": "object",
         "type": "string"
        },
        {
         "name": "decimal",
         "rawType": "int64",
         "type": "integer"
        }
       ],
       "ref": "112d1cf6-b1bf-4b60-969d-aa0b8c683150",
       "rows": [
        [
         "0",
         "{'id': 'NY.GDP.PCAP.PP.KD', 'value': 'GDP per capita, PPP (constant 2021 international $)'}",
         "{'id': 'ZH', 'value': 'Africa Eastern and Southern'}",
         "AFE",
         "2024",
         "3968.96375122681",
         "",
         "",
         "0"
        ],
        [
         "1",
         "{'id': 'NY.GDP.PCAP.PP.KD', 'value': 'GDP per capita, PPP (constant 2021 international $)'}",
         "{'id': 'ZH', 'value': 'Africa Eastern and Southern'}",
         "AFE",
         "2023",
         "3948.14272105098",
         "",
         "",
         "0"
        ],
        [
         "2",
         "{'id': 'NY.GDP.PCAP.PP.KD', 'value': 'GDP per capita, PPP (constant 2021 international $)'}",
         "{'id': 'ZH', 'value': 'Africa Eastern and Southern'}",
         "AFE",
         "2022",
         "3974.24421369721",
         "",
         "",
         "0"
        ],
        [
         "3",
         "{'id': 'NY.GDP.PCAP.PP.KD', 'value': 'GDP per capita, PPP (constant 2021 international $)'}",
         "{'id': 'ZH', 'value': 'Africa Eastern and Southern'}",
         "AFE",
         "2021",
         "3933.58090529567",
         "",
         "",
         "0"
        ],
        [
         "4",
         "{'id': 'NY.GDP.PCAP.PP.KD', 'value': 'GDP per capita, PPP (constant 2021 international $)'}",
         "{'id': 'ZH', 'value': 'Africa Eastern and Southern'}",
         "AFE",
         "2020",
         "3861.06881616553",
         "",
         "",
         "0"
        ]
       ],
       "shape": {
        "columns": 8,
        "rows": 5
       }
      },
      "text/html": [
       "<div>\n",
       "<style scoped>\n",
       "    .dataframe tbody tr th:only-of-type {\n",
       "        vertical-align: middle;\n",
       "    }\n",
       "\n",
       "    .dataframe tbody tr th {\n",
       "        vertical-align: top;\n",
       "    }\n",
       "\n",
       "    .dataframe thead th {\n",
       "        text-align: right;\n",
       "    }\n",
       "</style>\n",
       "<table border=\"1\" class=\"dataframe\">\n",
       "  <thead>\n",
       "    <tr style=\"text-align: right;\">\n",
       "      <th></th>\n",
       "      <th>indicator</th>\n",
       "      <th>country</th>\n",
       "      <th>countryiso3code</th>\n",
       "      <th>date</th>\n",
       "      <th>value</th>\n",
       "      <th>unit</th>\n",
       "      <th>obs_status</th>\n",
       "      <th>decimal</th>\n",
       "    </tr>\n",
       "  </thead>\n",
       "  <tbody>\n",
       "    <tr>\n",
       "      <th>0</th>\n",
       "      <td>{'id': 'NY.GDP.PCAP.PP.KD', 'value': 'GDP per ...</td>\n",
       "      <td>{'id': 'ZH', 'value': 'Africa Eastern and Sout...</td>\n",
       "      <td>AFE</td>\n",
       "      <td>2024</td>\n",
       "      <td>3968.963751</td>\n",
       "      <td></td>\n",
       "      <td></td>\n",
       "      <td>0</td>\n",
       "    </tr>\n",
       "    <tr>\n",
       "      <th>1</th>\n",
       "      <td>{'id': 'NY.GDP.PCAP.PP.KD', 'value': 'GDP per ...</td>\n",
       "      <td>{'id': 'ZH', 'value': 'Africa Eastern and Sout...</td>\n",
       "      <td>AFE</td>\n",
       "      <td>2023</td>\n",
       "      <td>3948.142721</td>\n",
       "      <td></td>\n",
       "      <td></td>\n",
       "      <td>0</td>\n",
       "    </tr>\n",
       "    <tr>\n",
       "      <th>2</th>\n",
       "      <td>{'id': 'NY.GDP.PCAP.PP.KD', 'value': 'GDP per ...</td>\n",
       "      <td>{'id': 'ZH', 'value': 'Africa Eastern and Sout...</td>\n",
       "      <td>AFE</td>\n",
       "      <td>2022</td>\n",
       "      <td>3974.244214</td>\n",
       "      <td></td>\n",
       "      <td></td>\n",
       "      <td>0</td>\n",
       "    </tr>\n",
       "    <tr>\n",
       "      <th>3</th>\n",
       "      <td>{'id': 'NY.GDP.PCAP.PP.KD', 'value': 'GDP per ...</td>\n",
       "      <td>{'id': 'ZH', 'value': 'Africa Eastern and Sout...</td>\n",
       "      <td>AFE</td>\n",
       "      <td>2021</td>\n",
       "      <td>3933.580905</td>\n",
       "      <td></td>\n",
       "      <td></td>\n",
       "      <td>0</td>\n",
       "    </tr>\n",
       "    <tr>\n",
       "      <th>4</th>\n",
       "      <td>{'id': 'NY.GDP.PCAP.PP.KD', 'value': 'GDP per ...</td>\n",
       "      <td>{'id': 'ZH', 'value': 'Africa Eastern and Sout...</td>\n",
       "      <td>AFE</td>\n",
       "      <td>2020</td>\n",
       "      <td>3861.068816</td>\n",
       "      <td></td>\n",
       "      <td></td>\n",
       "      <td>0</td>\n",
       "    </tr>\n",
       "  </tbody>\n",
       "</table>\n",
       "</div>"
      ],
      "text/plain": [
       "                                           indicator  \\\n",
       "0  {'id': 'NY.GDP.PCAP.PP.KD', 'value': 'GDP per ...   \n",
       "1  {'id': 'NY.GDP.PCAP.PP.KD', 'value': 'GDP per ...   \n",
       "2  {'id': 'NY.GDP.PCAP.PP.KD', 'value': 'GDP per ...   \n",
       "3  {'id': 'NY.GDP.PCAP.PP.KD', 'value': 'GDP per ...   \n",
       "4  {'id': 'NY.GDP.PCAP.PP.KD', 'value': 'GDP per ...   \n",
       "\n",
       "                                             country countryiso3code  date  \\\n",
       "0  {'id': 'ZH', 'value': 'Africa Eastern and Sout...             AFE  2024   \n",
       "1  {'id': 'ZH', 'value': 'Africa Eastern and Sout...             AFE  2023   \n",
       "2  {'id': 'ZH', 'value': 'Africa Eastern and Sout...             AFE  2022   \n",
       "3  {'id': 'ZH', 'value': 'Africa Eastern and Sout...             AFE  2021   \n",
       "4  {'id': 'ZH', 'value': 'Africa Eastern and Sout...             AFE  2020   \n",
       "\n",
       "         value unit obs_status  decimal  \n",
       "0  3968.963751                        0  \n",
       "1  3948.142721                        0  \n",
       "2  3974.244214                        0  \n",
       "3  3933.580905                        0  \n",
       "4  3861.068816                        0  "
      ]
     },
     "execution_count": 231,
     "metadata": {},
     "output_type": "execute_result"
    }
   ],
   "source": [
    "# Create an empty dataframe and include all data\n",
    "gdp_df = pd.DataFrame(all_gdp_data)\n",
    "print(\"Empty DataFrame created and all data added\")\n",
    "\n",
    "print('Shape:', gdp_df.shape)\n",
    "print(gdp_df.info())\n",
    "gdp_df.head()"
   ]
  },
  {
   "cell_type": "code",
   "execution_count": 232,
   "id": "080a05f9",
   "metadata": {},
   "outputs": [
    {
     "name": "stdout",
     "output_type": "stream",
     "text": [
      "DataFrame head after normalization\n"
     ]
    },
    {
     "data": {
      "application/vnd.microsoft.datawrangler.viewer.v0+json": {
       "columns": [
        {
         "name": "index",
         "rawType": "int64",
         "type": "integer"
        },
        {
         "name": "countryiso3code",
         "rawType": "object",
         "type": "string"
        },
        {
         "name": "date",
         "rawType": "object",
         "type": "string"
        },
        {
         "name": "value",
         "rawType": "float64",
         "type": "float"
        },
        {
         "name": "unit",
         "rawType": "object",
         "type": "string"
        },
        {
         "name": "obs_status",
         "rawType": "object",
         "type": "string"
        },
        {
         "name": "decimal",
         "rawType": "int64",
         "type": "integer"
        },
        {
         "name": "indicator.id",
         "rawType": "object",
         "type": "string"
        },
        {
         "name": "indicator.value",
         "rawType": "object",
         "type": "string"
        },
        {
         "name": "country.id",
         "rawType": "object",
         "type": "string"
        },
        {
         "name": "country.value",
         "rawType": "object",
         "type": "string"
        }
       ],
       "ref": "f5589cec-ae70-43a4-8e85-cd94e567a174",
       "rows": [
        [
         "0",
         "AFE",
         "2024",
         "3968.96375122681",
         "",
         "",
         "0",
         "NY.GDP.PCAP.PP.KD",
         "GDP per capita, PPP (constant 2021 international $)",
         "ZH",
         "Africa Eastern and Southern"
        ],
        [
         "1",
         "AFE",
         "2023",
         "3948.14272105098",
         "",
         "",
         "0",
         "NY.GDP.PCAP.PP.KD",
         "GDP per capita, PPP (constant 2021 international $)",
         "ZH",
         "Africa Eastern and Southern"
        ],
        [
         "2",
         "AFE",
         "2022",
         "3974.24421369721",
         "",
         "",
         "0",
         "NY.GDP.PCAP.PP.KD",
         "GDP per capita, PPP (constant 2021 international $)",
         "ZH",
         "Africa Eastern and Southern"
        ],
        [
         "3",
         "AFE",
         "2021",
         "3933.58090529567",
         "",
         "",
         "0",
         "NY.GDP.PCAP.PP.KD",
         "GDP per capita, PPP (constant 2021 international $)",
         "ZH",
         "Africa Eastern and Southern"
        ],
        [
         "4",
         "AFE",
         "2020",
         "3861.06881616553",
         "",
         "",
         "0",
         "NY.GDP.PCAP.PP.KD",
         "GDP per capita, PPP (constant 2021 international $)",
         "ZH",
         "Africa Eastern and Southern"
        ],
        [
         "5",
         "AFE",
         "2019",
         "4073.65398935977",
         "",
         "",
         "0",
         "NY.GDP.PCAP.PP.KD",
         "GDP per capita, PPP (constant 2021 international $)",
         "ZH",
         "Africa Eastern and Southern"
        ],
        [
         "6",
         "AFE",
         "2018",
         "4088.40283108133",
         "",
         "",
         "0",
         "NY.GDP.PCAP.PP.KD",
         "GDP per capita, PPP (constant 2021 international $)",
         "ZH",
         "Africa Eastern and Southern"
        ],
        [
         "7",
         "AFE",
         "2017",
         "4085.46623293064",
         "",
         "",
         "0",
         "NY.GDP.PCAP.PP.KD",
         "GDP per capita, PPP (constant 2021 international $)",
         "ZH",
         "Africa Eastern and Southern"
        ],
        [
         "8",
         "AFE",
         "2016",
         "4074.18759130693",
         "",
         "",
         "0",
         "NY.GDP.PCAP.PP.KD",
         "GDP per capita, PPP (constant 2021 international $)",
         "ZH",
         "Africa Eastern and Southern"
        ],
        [
         "9",
         "AFE",
         "2015",
         "4075.15966127461",
         "",
         "",
         "0",
         "NY.GDP.PCAP.PP.KD",
         "GDP per capita, PPP (constant 2021 international $)",
         "ZH",
         "Africa Eastern and Southern"
        ],
        [
         "10",
         "AFE",
         "2014",
         "4052.02469329039",
         "",
         "",
         "0",
         "NY.GDP.PCAP.PP.KD",
         "GDP per capita, PPP (constant 2021 international $)",
         "ZH",
         "Africa Eastern and Southern"
        ],
        [
         "11",
         "AFE",
         "2013",
         "3990.23757835255",
         "",
         "",
         "0",
         "NY.GDP.PCAP.PP.KD",
         "GDP per capita, PPP (constant 2021 international $)",
         "ZH",
         "Africa Eastern and Southern"
        ],
        [
         "12",
         "AFE",
         "2012",
         "3930.40072555055",
         "",
         "",
         "0",
         "NY.GDP.PCAP.PP.KD",
         "GDP per capita, PPP (constant 2021 international $)",
         "ZH",
         "Africa Eastern and Southern"
        ],
        [
         "13",
         "AFE",
         "2011",
         "3923.03721753167",
         "",
         "",
         "0",
         "NY.GDP.PCAP.PP.KD",
         "GDP per capita, PPP (constant 2021 international $)",
         "ZH",
         "Africa Eastern and Southern"
        ],
        [
         "14",
         "AFE",
         "2010",
         "3862.65127876421",
         "",
         "",
         "0",
         "NY.GDP.PCAP.PP.KD",
         "GDP per capita, PPP (constant 2021 international $)",
         "ZH",
         "Africa Eastern and Southern"
        ],
        [
         "15",
         "AFE",
         "2009",
         "3768.18601622238",
         "",
         "",
         "0",
         "NY.GDP.PCAP.PP.KD",
         "GDP per capita, PPP (constant 2021 international $)",
         "ZH",
         "Africa Eastern and Southern"
        ],
        [
         "16",
         "AFE",
         "2008",
         "3836.01907316478",
         "",
         "",
         "0",
         "NY.GDP.PCAP.PP.KD",
         "GDP per capita, PPP (constant 2021 international $)",
         "ZH",
         "Africa Eastern and Southern"
        ],
        [
         "17",
         "AFE",
         "2007",
         "3766.89717949646",
         "",
         "",
         "0",
         "NY.GDP.PCAP.PP.KD",
         "GDP per capita, PPP (constant 2021 international $)",
         "ZH",
         "Africa Eastern and Southern"
        ],
        [
         "18",
         "AFE",
         "2006",
         "3620.75194734932",
         "",
         "",
         "0",
         "NY.GDP.PCAP.PP.KD",
         "GDP per capita, PPP (constant 2021 international $)",
         "ZH",
         "Africa Eastern and Southern"
        ],
        [
         "19",
         "AFE",
         "2005",
         "3482.9408090148",
         "",
         "",
         "0",
         "NY.GDP.PCAP.PP.KD",
         "GDP per capita, PPP (constant 2021 international $)",
         "ZH",
         "Africa Eastern and Southern"
        ],
        [
         "20",
         "AFE",
         "2004",
         "3361.79373004443",
         "",
         "",
         "0",
         "NY.GDP.PCAP.PP.KD",
         "GDP per capita, PPP (constant 2021 international $)",
         "ZH",
         "Africa Eastern and Southern"
        ],
        [
         "21",
         "AFE",
         "2003",
         "3263.22444862075",
         "",
         "",
         "0",
         "NY.GDP.PCAP.PP.KD",
         "GDP per capita, PPP (constant 2021 international $)",
         "ZH",
         "Africa Eastern and Southern"
        ],
        [
         "22",
         "AFE",
         "2002",
         "3247.65591083583",
         "",
         "",
         "0",
         "NY.GDP.PCAP.PP.KD",
         "GDP per capita, PPP (constant 2021 international $)",
         "ZH",
         "Africa Eastern and Southern"
        ],
        [
         "23",
         "AFE",
         "2001",
         "3207.57029489769",
         "",
         "",
         "0",
         "NY.GDP.PCAP.PP.KD",
         "GDP per capita, PPP (constant 2021 international $)",
         "ZH",
         "Africa Eastern and Southern"
        ],
        [
         "24",
         "AFE",
         "2000",
         "3175.46723177352",
         "",
         "",
         "0",
         "NY.GDP.PCAP.PP.KD",
         "GDP per capita, PPP (constant 2021 international $)",
         "ZH",
         "Africa Eastern and Southern"
        ],
        [
         "25",
         "AFE",
         "1999",
         "3156.34994455405",
         "",
         "",
         "0",
         "NY.GDP.PCAP.PP.KD",
         "GDP per capita, PPP (constant 2021 international $)",
         "ZH",
         "Africa Eastern and Southern"
        ],
        [
         "26",
         "AFE",
         "1998",
         "3154.03765386441",
         "",
         "",
         "0",
         "NY.GDP.PCAP.PP.KD",
         "GDP per capita, PPP (constant 2021 international $)",
         "ZH",
         "Africa Eastern and Southern"
        ],
        [
         "27",
         "AFE",
         "1997",
         "3176.42260896193",
         "",
         "",
         "0",
         "NY.GDP.PCAP.PP.KD",
         "GDP per capita, PPP (constant 2021 international $)",
         "ZH",
         "Africa Eastern and Southern"
        ],
        [
         "28",
         "AFE",
         "1996",
         "3132.14514955912",
         "",
         "",
         "0",
         "NY.GDP.PCAP.PP.KD",
         "GDP per capita, PPP (constant 2021 international $)",
         "ZH",
         "Africa Eastern and Southern"
        ],
        [
         "29",
         "AFE",
         "1995",
         "3047.01845671999",
         "",
         "",
         "0",
         "NY.GDP.PCAP.PP.KD",
         "GDP per capita, PPP (constant 2021 international $)",
         "ZH",
         "Africa Eastern and Southern"
        ],
        [
         "30",
         "AFE",
         "1994",
         "2992.56630147956",
         "",
         "",
         "0",
         "NY.GDP.PCAP.PP.KD",
         "GDP per capita, PPP (constant 2021 international $)",
         "ZH",
         "Africa Eastern and Southern"
        ],
        [
         "31",
         "AFE",
         "1993",
         "3022.85987931668",
         "",
         "",
         "0",
         "NY.GDP.PCAP.PP.KD",
         "GDP per capita, PPP (constant 2021 international $)",
         "ZH",
         "Africa Eastern and Southern"
        ],
        [
         "32",
         "AFE",
         "1992",
         "3133.97458611147",
         "",
         "",
         "0",
         "NY.GDP.PCAP.PP.KD",
         "GDP per capita, PPP (constant 2021 international $)",
         "ZH",
         "Africa Eastern and Southern"
        ],
        [
         "33",
         "AFE",
         "1991",
         "3292.71463798141",
         "",
         "",
         "0",
         "NY.GDP.PCAP.PP.KD",
         "GDP per capita, PPP (constant 2021 international $)",
         "ZH",
         "Africa Eastern and Southern"
        ],
        [
         "34",
         "AFE",
         "1990",
         "3385.67560032535",
         "",
         "",
         "0",
         "NY.GDP.PCAP.PP.KD",
         "GDP per capita, PPP (constant 2021 international $)",
         "ZH",
         "Africa Eastern and Southern"
        ],
        [
         "35",
         "AFE",
         "1989",
         null,
         "",
         "",
         "0",
         "NY.GDP.PCAP.PP.KD",
         "GDP per capita, PPP (constant 2021 international $)",
         "ZH",
         "Africa Eastern and Southern"
        ],
        [
         "36",
         "AFE",
         "1988",
         null,
         "",
         "",
         "0",
         "NY.GDP.PCAP.PP.KD",
         "GDP per capita, PPP (constant 2021 international $)",
         "ZH",
         "Africa Eastern and Southern"
        ],
        [
         "37",
         "AFE",
         "1987",
         null,
         "",
         "",
         "0",
         "NY.GDP.PCAP.PP.KD",
         "GDP per capita, PPP (constant 2021 international $)",
         "ZH",
         "Africa Eastern and Southern"
        ],
        [
         "38",
         "AFE",
         "1986",
         null,
         "",
         "",
         "0",
         "NY.GDP.PCAP.PP.KD",
         "GDP per capita, PPP (constant 2021 international $)",
         "ZH",
         "Africa Eastern and Southern"
        ],
        [
         "39",
         "AFE",
         "1985",
         null,
         "",
         "",
         "0",
         "NY.GDP.PCAP.PP.KD",
         "GDP per capita, PPP (constant 2021 international $)",
         "ZH",
         "Africa Eastern and Southern"
        ],
        [
         "40",
         "AFE",
         "1984",
         null,
         "",
         "",
         "0",
         "NY.GDP.PCAP.PP.KD",
         "GDP per capita, PPP (constant 2021 international $)",
         "ZH",
         "Africa Eastern and Southern"
        ],
        [
         "41",
         "AFE",
         "1983",
         null,
         "",
         "",
         "0",
         "NY.GDP.PCAP.PP.KD",
         "GDP per capita, PPP (constant 2021 international $)",
         "ZH",
         "Africa Eastern and Southern"
        ],
        [
         "42",
         "AFE",
         "1982",
         null,
         "",
         "",
         "0",
         "NY.GDP.PCAP.PP.KD",
         "GDP per capita, PPP (constant 2021 international $)",
         "ZH",
         "Africa Eastern and Southern"
        ],
        [
         "43",
         "AFE",
         "1981",
         null,
         "",
         "",
         "0",
         "NY.GDP.PCAP.PP.KD",
         "GDP per capita, PPP (constant 2021 international $)",
         "ZH",
         "Africa Eastern and Southern"
        ],
        [
         "44",
         "AFE",
         "1980",
         null,
         "",
         "",
         "0",
         "NY.GDP.PCAP.PP.KD",
         "GDP per capita, PPP (constant 2021 international $)",
         "ZH",
         "Africa Eastern and Southern"
        ],
        [
         "45",
         "AFE",
         "1979",
         null,
         "",
         "",
         "0",
         "NY.GDP.PCAP.PP.KD",
         "GDP per capita, PPP (constant 2021 international $)",
         "ZH",
         "Africa Eastern and Southern"
        ],
        [
         "46",
         "AFE",
         "1978",
         null,
         "",
         "",
         "0",
         "NY.GDP.PCAP.PP.KD",
         "GDP per capita, PPP (constant 2021 international $)",
         "ZH",
         "Africa Eastern and Southern"
        ],
        [
         "47",
         "AFE",
         "1977",
         null,
         "",
         "",
         "0",
         "NY.GDP.PCAP.PP.KD",
         "GDP per capita, PPP (constant 2021 international $)",
         "ZH",
         "Africa Eastern and Southern"
        ],
        [
         "48",
         "AFE",
         "1976",
         null,
         "",
         "",
         "0",
         "NY.GDP.PCAP.PP.KD",
         "GDP per capita, PPP (constant 2021 international $)",
         "ZH",
         "Africa Eastern and Southern"
        ],
        [
         "49",
         "AFE",
         "1975",
         null,
         "",
         "",
         "0",
         "NY.GDP.PCAP.PP.KD",
         "GDP per capita, PPP (constant 2021 international $)",
         "ZH",
         "Africa Eastern and Southern"
        ]
       ],
       "shape": {
        "columns": 10,
        "rows": 17290
       }
      },
      "text/html": [
       "<div>\n",
       "<style scoped>\n",
       "    .dataframe tbody tr th:only-of-type {\n",
       "        vertical-align: middle;\n",
       "    }\n",
       "\n",
       "    .dataframe tbody tr th {\n",
       "        vertical-align: top;\n",
       "    }\n",
       "\n",
       "    .dataframe thead th {\n",
       "        text-align: right;\n",
       "    }\n",
       "</style>\n",
       "<table border=\"1\" class=\"dataframe\">\n",
       "  <thead>\n",
       "    <tr style=\"text-align: right;\">\n",
       "      <th></th>\n",
       "      <th>countryiso3code</th>\n",
       "      <th>date</th>\n",
       "      <th>value</th>\n",
       "      <th>unit</th>\n",
       "      <th>obs_status</th>\n",
       "      <th>decimal</th>\n",
       "      <th>indicator.id</th>\n",
       "      <th>indicator.value</th>\n",
       "      <th>country.id</th>\n",
       "      <th>country.value</th>\n",
       "    </tr>\n",
       "  </thead>\n",
       "  <tbody>\n",
       "    <tr>\n",
       "      <th>0</th>\n",
       "      <td>AFE</td>\n",
       "      <td>2024</td>\n",
       "      <td>3968.963751</td>\n",
       "      <td></td>\n",
       "      <td></td>\n",
       "      <td>0</td>\n",
       "      <td>NY.GDP.PCAP.PP.KD</td>\n",
       "      <td>GDP per capita, PPP (constant 2021 internation...</td>\n",
       "      <td>ZH</td>\n",
       "      <td>Africa Eastern and Southern</td>\n",
       "    </tr>\n",
       "    <tr>\n",
       "      <th>1</th>\n",
       "      <td>AFE</td>\n",
       "      <td>2023</td>\n",
       "      <td>3948.142721</td>\n",
       "      <td></td>\n",
       "      <td></td>\n",
       "      <td>0</td>\n",
       "      <td>NY.GDP.PCAP.PP.KD</td>\n",
       "      <td>GDP per capita, PPP (constant 2021 internation...</td>\n",
       "      <td>ZH</td>\n",
       "      <td>Africa Eastern and Southern</td>\n",
       "    </tr>\n",
       "    <tr>\n",
       "      <th>2</th>\n",
       "      <td>AFE</td>\n",
       "      <td>2022</td>\n",
       "      <td>3974.244214</td>\n",
       "      <td></td>\n",
       "      <td></td>\n",
       "      <td>0</td>\n",
       "      <td>NY.GDP.PCAP.PP.KD</td>\n",
       "      <td>GDP per capita, PPP (constant 2021 internation...</td>\n",
       "      <td>ZH</td>\n",
       "      <td>Africa Eastern and Southern</td>\n",
       "    </tr>\n",
       "    <tr>\n",
       "      <th>3</th>\n",
       "      <td>AFE</td>\n",
       "      <td>2021</td>\n",
       "      <td>3933.580905</td>\n",
       "      <td></td>\n",
       "      <td></td>\n",
       "      <td>0</td>\n",
       "      <td>NY.GDP.PCAP.PP.KD</td>\n",
       "      <td>GDP per capita, PPP (constant 2021 internation...</td>\n",
       "      <td>ZH</td>\n",
       "      <td>Africa Eastern and Southern</td>\n",
       "    </tr>\n",
       "    <tr>\n",
       "      <th>4</th>\n",
       "      <td>AFE</td>\n",
       "      <td>2020</td>\n",
       "      <td>3861.068816</td>\n",
       "      <td></td>\n",
       "      <td></td>\n",
       "      <td>0</td>\n",
       "      <td>NY.GDP.PCAP.PP.KD</td>\n",
       "      <td>GDP per capita, PPP (constant 2021 internation...</td>\n",
       "      <td>ZH</td>\n",
       "      <td>Africa Eastern and Southern</td>\n",
       "    </tr>\n",
       "    <tr>\n",
       "      <th>...</th>\n",
       "      <td>...</td>\n",
       "      <td>...</td>\n",
       "      <td>...</td>\n",
       "      <td>...</td>\n",
       "      <td>...</td>\n",
       "      <td>...</td>\n",
       "      <td>...</td>\n",
       "      <td>...</td>\n",
       "      <td>...</td>\n",
       "      <td>...</td>\n",
       "    </tr>\n",
       "    <tr>\n",
       "      <th>17285</th>\n",
       "      <td>ZWE</td>\n",
       "      <td>1964</td>\n",
       "      <td>NaN</td>\n",
       "      <td></td>\n",
       "      <td></td>\n",
       "      <td>0</td>\n",
       "      <td>NY.GDP.PCAP.PP.KD</td>\n",
       "      <td>GDP per capita, PPP (constant 2021 internation...</td>\n",
       "      <td>ZW</td>\n",
       "      <td>Zimbabwe</td>\n",
       "    </tr>\n",
       "    <tr>\n",
       "      <th>17286</th>\n",
       "      <td>ZWE</td>\n",
       "      <td>1963</td>\n",
       "      <td>NaN</td>\n",
       "      <td></td>\n",
       "      <td></td>\n",
       "      <td>0</td>\n",
       "      <td>NY.GDP.PCAP.PP.KD</td>\n",
       "      <td>GDP per capita, PPP (constant 2021 internation...</td>\n",
       "      <td>ZW</td>\n",
       "      <td>Zimbabwe</td>\n",
       "    </tr>\n",
       "    <tr>\n",
       "      <th>17287</th>\n",
       "      <td>ZWE</td>\n",
       "      <td>1962</td>\n",
       "      <td>NaN</td>\n",
       "      <td></td>\n",
       "      <td></td>\n",
       "      <td>0</td>\n",
       "      <td>NY.GDP.PCAP.PP.KD</td>\n",
       "      <td>GDP per capita, PPP (constant 2021 internation...</td>\n",
       "      <td>ZW</td>\n",
       "      <td>Zimbabwe</td>\n",
       "    </tr>\n",
       "    <tr>\n",
       "      <th>17288</th>\n",
       "      <td>ZWE</td>\n",
       "      <td>1961</td>\n",
       "      <td>NaN</td>\n",
       "      <td></td>\n",
       "      <td></td>\n",
       "      <td>0</td>\n",
       "      <td>NY.GDP.PCAP.PP.KD</td>\n",
       "      <td>GDP per capita, PPP (constant 2021 internation...</td>\n",
       "      <td>ZW</td>\n",
       "      <td>Zimbabwe</td>\n",
       "    </tr>\n",
       "    <tr>\n",
       "      <th>17289</th>\n",
       "      <td>ZWE</td>\n",
       "      <td>1960</td>\n",
       "      <td>NaN</td>\n",
       "      <td></td>\n",
       "      <td></td>\n",
       "      <td>0</td>\n",
       "      <td>NY.GDP.PCAP.PP.KD</td>\n",
       "      <td>GDP per capita, PPP (constant 2021 internation...</td>\n",
       "      <td>ZW</td>\n",
       "      <td>Zimbabwe</td>\n",
       "    </tr>\n",
       "  </tbody>\n",
       "</table>\n",
       "<p>17290 rows × 10 columns</p>\n",
       "</div>"
      ],
      "text/plain": [
       "      countryiso3code  date        value unit obs_status  decimal  \\\n",
       "0                 AFE  2024  3968.963751                        0   \n",
       "1                 AFE  2023  3948.142721                        0   \n",
       "2                 AFE  2022  3974.244214                        0   \n",
       "3                 AFE  2021  3933.580905                        0   \n",
       "4                 AFE  2020  3861.068816                        0   \n",
       "...               ...   ...          ...  ...        ...      ...   \n",
       "17285             ZWE  1964          NaN                        0   \n",
       "17286             ZWE  1963          NaN                        0   \n",
       "17287             ZWE  1962          NaN                        0   \n",
       "17288             ZWE  1961          NaN                        0   \n",
       "17289             ZWE  1960          NaN                        0   \n",
       "\n",
       "            indicator.id                                    indicator.value  \\\n",
       "0      NY.GDP.PCAP.PP.KD  GDP per capita, PPP (constant 2021 internation...   \n",
       "1      NY.GDP.PCAP.PP.KD  GDP per capita, PPP (constant 2021 internation...   \n",
       "2      NY.GDP.PCAP.PP.KD  GDP per capita, PPP (constant 2021 internation...   \n",
       "3      NY.GDP.PCAP.PP.KD  GDP per capita, PPP (constant 2021 internation...   \n",
       "4      NY.GDP.PCAP.PP.KD  GDP per capita, PPP (constant 2021 internation...   \n",
       "...                  ...                                                ...   \n",
       "17285  NY.GDP.PCAP.PP.KD  GDP per capita, PPP (constant 2021 internation...   \n",
       "17286  NY.GDP.PCAP.PP.KD  GDP per capita, PPP (constant 2021 internation...   \n",
       "17287  NY.GDP.PCAP.PP.KD  GDP per capita, PPP (constant 2021 internation...   \n",
       "17288  NY.GDP.PCAP.PP.KD  GDP per capita, PPP (constant 2021 internation...   \n",
       "17289  NY.GDP.PCAP.PP.KD  GDP per capita, PPP (constant 2021 internation...   \n",
       "\n",
       "      country.id                country.value  \n",
       "0             ZH  Africa Eastern and Southern  \n",
       "1             ZH  Africa Eastern and Southern  \n",
       "2             ZH  Africa Eastern and Southern  \n",
       "3             ZH  Africa Eastern and Southern  \n",
       "4             ZH  Africa Eastern and Southern  \n",
       "...          ...                          ...  \n",
       "17285         ZW                     Zimbabwe  \n",
       "17286         ZW                     Zimbabwe  \n",
       "17287         ZW                     Zimbabwe  \n",
       "17288         ZW                     Zimbabwe  \n",
       "17289         ZW                     Zimbabwe  \n",
       "\n",
       "[17290 rows x 10 columns]"
      ]
     },
     "execution_count": 232,
     "metadata": {},
     "output_type": "execute_result"
    }
   ],
   "source": [
    "# Convert the list of dictionaries to a normalized dataframe\n",
    "gdp_df = pd.json_normalize(all_gdp_data)\n",
    "# Check dataframe\n",
    "print('DataFrame head after normalization')\n",
    "gdp_df"
   ]
  },
  {
   "cell_type": "markdown",
   "id": "1fc78abd",
   "metadata": {},
   "source": [
    "2. Now, use the API to get all available data for Life expectancy at birth, total (years). This indicator has code \"SP.DYN.LE00.IN\". Again, convert the results to a DataFrame."
   ]
  },
  {
   "cell_type": "code",
   "execution_count": 233,
   "id": "4101d53b",
   "metadata": {},
   "outputs": [
    {
     "name": "stdout",
     "output_type": "stream",
     "text": [
      "<Response [200]>\n"
     ]
    }
   ],
   "source": [
    "# Set API endpoint for life expectancy at birth, total years\n",
    "indicator = 'SP.DYN.LE00.IN'\n",
    "endpoint = f'https://api.worldbank.org/v2/country/all/indicator/{indicator}?format=json&per_page=1000' # Use per_page=1000 to bring back 1000 rows per page instead of the default of 50 rows to reduce API requests from 346 to 18\n",
    "\n",
    "# Request to API using GET\n",
    "response = requests.get(endpoint)\n",
    "\n",
    "# Check response\n",
    "print(response)"
   ]
  },
  {
   "cell_type": "code",
   "execution_count": 234,
   "id": "b3cd2cb7",
   "metadata": {},
   "outputs": [
    {
     "name": "stdout",
     "output_type": "stream",
     "text": [
      "API response (lifedata)\n",
      "<class 'list'>\n",
      "2\n",
      "{'page': 1, 'pages': 18, 'per_page': 1000, 'total': 17290, 'sourceid': '2', 'lastupdated': '2025-10-07'}\n",
      "[{'indicator': {'id': 'SP.DYN.LE00.IN', 'value': 'Life expectancy at birth, total (years)'}, 'country': {'id': 'ZH', 'value': 'Africa Eastern and Southern'}, 'countryiso3code': 'AFE', 'date': '2024', 'value': None, 'unit': '', 'obs_status': '', 'decimal': 0}, {'indicator': {'id': 'SP.DYN.LE00.IN', 'value': 'Life expectancy at birth, total (years)'}, 'country': {'id': 'ZH', 'value': 'Africa Eastern and Southern'}, 'countryiso3code': 'AFE', 'date': '2023', 'value': 65.146290855385, 'unit': '', 'obs_status': '', 'decimal': 0}]\n"
     ]
    }
   ],
   "source": [
    "# Save json response in variable\n",
    "lifedata = response.json()\n",
    "\n",
    "# Look at what lifedata variable contains\n",
    "print('API response (lifedata)')\n",
    "print(type(lifedata))         # <class 'list'>\n",
    "print(len(lifedata))          # 2 (metadata + actual data)\n",
    "print(lifedata[0])            # metadata: page info, total rows\n",
    "print(lifedata[1][:2])        # first 2 rows of actual data"
   ]
  },
  {
   "cell_type": "code",
   "execution_count": 235,
   "id": "a711fd49",
   "metadata": {},
   "outputs": [
    {
     "name": "stdout",
     "output_type": "stream",
     "text": [
      "Total pages to fetch: 18\n"
     ]
    }
   ],
   "source": [
    "# Get total number of pages\n",
    "total_pages = lifedata[0]['pages']\n",
    "print(f'Total pages to fetch: {total_pages}')"
   ]
  },
  {
   "cell_type": "code",
   "execution_count": 236,
   "id": "4066f861",
   "metadata": {},
   "outputs": [
    {
     "name": "stdout",
     "output_type": "stream",
     "text": [
      "Fetching page 3 of 18...\n",
      "Fetching page 6 of 18...\n",
      "Fetching page 9 of 18...\n",
      "Fetching page 12 of 18...\n",
      "Fetching page 15 of 18...\n",
      "Fetching page 18 of 18...\n",
      "All pages fetched successfully!\n",
      "Total records = 17290\n",
      "Records collected = 17290\n"
     ]
    }
   ],
   "source": [
    "# Create list to store all results\n",
    "all_life_data = []\n",
    "\n",
    "# Loop through all pages and collect data\n",
    "for page in range(1, total_pages + 1):\n",
    "    page_response = requests.get(f'{endpoint}&page={page}')\n",
    "    page_data = page_response.json()\n",
    "    all_life_data += page_data[1]\n",
    "\n",
    "    # Progress print: every 3 pages and on the last page\n",
    "    if page % 3 == 0 or page == total_pages:\n",
    "        print(f'Fetching page {page} of {total_pages}...')\n",
    "\n",
    "# Final confirmation\n",
    "print('All pages fetched successfully!')\n",
    "print(f'Total records = 17290')\n",
    "print(f'Records collected = {len(all_life_data)}')"
   ]
  },
  {
   "cell_type": "code",
   "execution_count": 237,
   "id": "eb6f7a92",
   "metadata": {},
   "outputs": [
    {
     "name": "stdout",
     "output_type": "stream",
     "text": [
      "Empty DataFrame created and all data added\n",
      "Shape: (17290, 8)\n",
      "<class 'pandas.core.frame.DataFrame'>\n",
      "RangeIndex: 17290 entries, 0 to 17289\n",
      "Data columns (total 8 columns):\n",
      " #   Column           Non-Null Count  Dtype  \n",
      "---  ------           --------------  -----  \n",
      " 0   indicator        17290 non-null  object \n",
      " 1   country          17290 non-null  object \n",
      " 2   countryiso3code  17290 non-null  object \n",
      " 3   date             17290 non-null  object \n",
      " 4   value            16926 non-null  float64\n",
      " 5   unit             17290 non-null  object \n",
      " 6   obs_status       17290 non-null  object \n",
      " 7   decimal          17290 non-null  int64  \n",
      "dtypes: float64(1), int64(1), object(6)\n",
      "memory usage: 1.1+ MB\n",
      "None\n"
     ]
    },
    {
     "data": {
      "application/vnd.microsoft.datawrangler.viewer.v0+json": {
       "columns": [
        {
         "name": "index",
         "rawType": "int64",
         "type": "integer"
        },
        {
         "name": "indicator",
         "rawType": "object",
         "type": "unknown"
        },
        {
         "name": "country",
         "rawType": "object",
         "type": "unknown"
        },
        {
         "name": "countryiso3code",
         "rawType": "object",
         "type": "string"
        },
        {
         "name": "date",
         "rawType": "object",
         "type": "string"
        },
        {
         "name": "value",
         "rawType": "float64",
         "type": "float"
        },
        {
         "name": "unit",
         "rawType": "object",
         "type": "string"
        },
        {
         "name": "obs_status",
         "rawType": "object",
         "type": "string"
        },
        {
         "name": "decimal",
         "rawType": "int64",
         "type": "integer"
        }
       ],
       "ref": "4af71914-b412-4544-ac99-19093b582d9a",
       "rows": [
        [
         "0",
         "{'id': 'SP.DYN.LE00.IN', 'value': 'Life expectancy at birth, total (years)'}",
         "{'id': 'ZH', 'value': 'Africa Eastern and Southern'}",
         "AFE",
         "2024",
         null,
         "",
         "",
         "0"
        ],
        [
         "1",
         "{'id': 'SP.DYN.LE00.IN', 'value': 'Life expectancy at birth, total (years)'}",
         "{'id': 'ZH', 'value': 'Africa Eastern and Southern'}",
         "AFE",
         "2023",
         "65.146290855385",
         "",
         "",
         "0"
        ],
        [
         "2",
         "{'id': 'SP.DYN.LE00.IN', 'value': 'Life expectancy at birth, total (years)'}",
         "{'id': 'ZH', 'value': 'Africa Eastern and Southern'}",
         "AFE",
         "2022",
         "64.4870195456608",
         "",
         "",
         "0"
        ],
        [
         "3",
         "{'id': 'SP.DYN.LE00.IN', 'value': 'Life expectancy at birth, total (years)'}",
         "{'id': 'ZH', 'value': 'Africa Eastern and Southern'}",
         "AFE",
         "2021",
         "62.9799991857494",
         "",
         "",
         "0"
        ],
        [
         "4",
         "{'id': 'SP.DYN.LE00.IN', 'value': 'Life expectancy at birth, total (years)'}",
         "{'id': 'ZH', 'value': 'Africa Eastern and Southern'}",
         "AFE",
         "2020",
         "63.7664840026943",
         "",
         "",
         "0"
        ]
       ],
       "shape": {
        "columns": 8,
        "rows": 5
       }
      },
      "text/html": [
       "<div>\n",
       "<style scoped>\n",
       "    .dataframe tbody tr th:only-of-type {\n",
       "        vertical-align: middle;\n",
       "    }\n",
       "\n",
       "    .dataframe tbody tr th {\n",
       "        vertical-align: top;\n",
       "    }\n",
       "\n",
       "    .dataframe thead th {\n",
       "        text-align: right;\n",
       "    }\n",
       "</style>\n",
       "<table border=\"1\" class=\"dataframe\">\n",
       "  <thead>\n",
       "    <tr style=\"text-align: right;\">\n",
       "      <th></th>\n",
       "      <th>indicator</th>\n",
       "      <th>country</th>\n",
       "      <th>countryiso3code</th>\n",
       "      <th>date</th>\n",
       "      <th>value</th>\n",
       "      <th>unit</th>\n",
       "      <th>obs_status</th>\n",
       "      <th>decimal</th>\n",
       "    </tr>\n",
       "  </thead>\n",
       "  <tbody>\n",
       "    <tr>\n",
       "      <th>0</th>\n",
       "      <td>{'id': 'SP.DYN.LE00.IN', 'value': 'Life expect...</td>\n",
       "      <td>{'id': 'ZH', 'value': 'Africa Eastern and Sout...</td>\n",
       "      <td>AFE</td>\n",
       "      <td>2024</td>\n",
       "      <td>NaN</td>\n",
       "      <td></td>\n",
       "      <td></td>\n",
       "      <td>0</td>\n",
       "    </tr>\n",
       "    <tr>\n",
       "      <th>1</th>\n",
       "      <td>{'id': 'SP.DYN.LE00.IN', 'value': 'Life expect...</td>\n",
       "      <td>{'id': 'ZH', 'value': 'Africa Eastern and Sout...</td>\n",
       "      <td>AFE</td>\n",
       "      <td>2023</td>\n",
       "      <td>65.146291</td>\n",
       "      <td></td>\n",
       "      <td></td>\n",
       "      <td>0</td>\n",
       "    </tr>\n",
       "    <tr>\n",
       "      <th>2</th>\n",
       "      <td>{'id': 'SP.DYN.LE00.IN', 'value': 'Life expect...</td>\n",
       "      <td>{'id': 'ZH', 'value': 'Africa Eastern and Sout...</td>\n",
       "      <td>AFE</td>\n",
       "      <td>2022</td>\n",
       "      <td>64.487020</td>\n",
       "      <td></td>\n",
       "      <td></td>\n",
       "      <td>0</td>\n",
       "    </tr>\n",
       "    <tr>\n",
       "      <th>3</th>\n",
       "      <td>{'id': 'SP.DYN.LE00.IN', 'value': 'Life expect...</td>\n",
       "      <td>{'id': 'ZH', 'value': 'Africa Eastern and Sout...</td>\n",
       "      <td>AFE</td>\n",
       "      <td>2021</td>\n",
       "      <td>62.979999</td>\n",
       "      <td></td>\n",
       "      <td></td>\n",
       "      <td>0</td>\n",
       "    </tr>\n",
       "    <tr>\n",
       "      <th>4</th>\n",
       "      <td>{'id': 'SP.DYN.LE00.IN', 'value': 'Life expect...</td>\n",
       "      <td>{'id': 'ZH', 'value': 'Africa Eastern and Sout...</td>\n",
       "      <td>AFE</td>\n",
       "      <td>2020</td>\n",
       "      <td>63.766484</td>\n",
       "      <td></td>\n",
       "      <td></td>\n",
       "      <td>0</td>\n",
       "    </tr>\n",
       "  </tbody>\n",
       "</table>\n",
       "</div>"
      ],
      "text/plain": [
       "                                           indicator  \\\n",
       "0  {'id': 'SP.DYN.LE00.IN', 'value': 'Life expect...   \n",
       "1  {'id': 'SP.DYN.LE00.IN', 'value': 'Life expect...   \n",
       "2  {'id': 'SP.DYN.LE00.IN', 'value': 'Life expect...   \n",
       "3  {'id': 'SP.DYN.LE00.IN', 'value': 'Life expect...   \n",
       "4  {'id': 'SP.DYN.LE00.IN', 'value': 'Life expect...   \n",
       "\n",
       "                                             country countryiso3code  date  \\\n",
       "0  {'id': 'ZH', 'value': 'Africa Eastern and Sout...             AFE  2024   \n",
       "1  {'id': 'ZH', 'value': 'Africa Eastern and Sout...             AFE  2023   \n",
       "2  {'id': 'ZH', 'value': 'Africa Eastern and Sout...             AFE  2022   \n",
       "3  {'id': 'ZH', 'value': 'Africa Eastern and Sout...             AFE  2021   \n",
       "4  {'id': 'ZH', 'value': 'Africa Eastern and Sout...             AFE  2020   \n",
       "\n",
       "       value unit obs_status  decimal  \n",
       "0        NaN                        0  \n",
       "1  65.146291                        0  \n",
       "2  64.487020                        0  \n",
       "3  62.979999                        0  \n",
       "4  63.766484                        0  "
      ]
     },
     "execution_count": 237,
     "metadata": {},
     "output_type": "execute_result"
    }
   ],
   "source": [
    "# Create an empty DataFrame and include all data\n",
    "life_df = pd.DataFrame(all_life_data)\n",
    "print('Empty DataFrame created and all data added')\n",
    "\n",
    "print('Shape:', life_df.shape)\n",
    "print(life_df.info())\n",
    "life_df.head()"
   ]
  },
  {
   "cell_type": "code",
   "execution_count": 238,
   "id": "9bd9c31f",
   "metadata": {},
   "outputs": [
    {
     "name": "stdout",
     "output_type": "stream",
     "text": [
      "DataFrame head after normalization\n"
     ]
    },
    {
     "data": {
      "application/vnd.microsoft.datawrangler.viewer.v0+json": {
       "columns": [
        {
         "name": "index",
         "rawType": "int64",
         "type": "integer"
        },
        {
         "name": "countryiso3code",
         "rawType": "object",
         "type": "string"
        },
        {
         "name": "date",
         "rawType": "object",
         "type": "string"
        },
        {
         "name": "value",
         "rawType": "float64",
         "type": "float"
        },
        {
         "name": "unit",
         "rawType": "object",
         "type": "string"
        },
        {
         "name": "obs_status",
         "rawType": "object",
         "type": "string"
        },
        {
         "name": "decimal",
         "rawType": "int64",
         "type": "integer"
        },
        {
         "name": "indicator.id",
         "rawType": "object",
         "type": "string"
        },
        {
         "name": "indicator.value",
         "rawType": "object",
         "type": "string"
        },
        {
         "name": "country.id",
         "rawType": "object",
         "type": "string"
        },
        {
         "name": "country.value",
         "rawType": "object",
         "type": "string"
        }
       ],
       "ref": "2aa7b483-4238-4d5c-92e6-90a6d5739b4b",
       "rows": [
        [
         "0",
         "AFE",
         "2024",
         null,
         "",
         "",
         "0",
         "SP.DYN.LE00.IN",
         "Life expectancy at birth, total (years)",
         "ZH",
         "Africa Eastern and Southern"
        ],
        [
         "1",
         "AFE",
         "2023",
         "65.146290855385",
         "",
         "",
         "0",
         "SP.DYN.LE00.IN",
         "Life expectancy at birth, total (years)",
         "ZH",
         "Africa Eastern and Southern"
        ],
        [
         "2",
         "AFE",
         "2022",
         "64.4870195456608",
         "",
         "",
         "0",
         "SP.DYN.LE00.IN",
         "Life expectancy at birth, total (years)",
         "ZH",
         "Africa Eastern and Southern"
        ],
        [
         "3",
         "AFE",
         "2021",
         "62.9799991857494",
         "",
         "",
         "0",
         "SP.DYN.LE00.IN",
         "Life expectancy at birth, total (years)",
         "ZH",
         "Africa Eastern and Southern"
        ],
        [
         "4",
         "AFE",
         "2020",
         "63.7664840026943",
         "",
         "",
         "0",
         "SP.DYN.LE00.IN",
         "Life expectancy at birth, total (years)",
         "ZH",
         "Africa Eastern and Southern"
        ],
        [
         "5",
         "AFE",
         "2019",
         "63.8572612837042",
         "",
         "",
         "0",
         "SP.DYN.LE00.IN",
         "Life expectancy at birth, total (years)",
         "ZH",
         "Africa Eastern and Southern"
        ],
        [
         "6",
         "AFE",
         "2018",
         "63.3306913582336",
         "",
         "",
         "0",
         "SP.DYN.LE00.IN",
         "Life expectancy at birth, total (years)",
         "ZH",
         "Africa Eastern and Southern"
        ],
        [
         "7",
         "AFE",
         "2017",
         "62.5912750961501",
         "",
         "",
         "0",
         "SP.DYN.LE00.IN",
         "Life expectancy at birth, total (years)",
         "ZH",
         "Africa Eastern and Southern"
        ],
        [
         "8",
         "AFE",
         "2016",
         "62.1679813169199",
         "",
         "",
         "0",
         "SP.DYN.LE00.IN",
         "Life expectancy at birth, total (years)",
         "ZH",
         "Africa Eastern and Southern"
        ],
        [
         "9",
         "AFE",
         "2015",
         "61.713030523495",
         "",
         "",
         "0",
         "SP.DYN.LE00.IN",
         "Life expectancy at birth, total (years)",
         "ZH",
         "Africa Eastern and Southern"
        ],
        [
         "10",
         "AFE",
         "2014",
         "61.2514360156709",
         "",
         "",
         "0",
         "SP.DYN.LE00.IN",
         "Life expectancy at birth, total (years)",
         "ZH",
         "Africa Eastern and Southern"
        ],
        [
         "11",
         "AFE",
         "2013",
         "60.895739752772",
         "",
         "",
         "0",
         "SP.DYN.LE00.IN",
         "Life expectancy at birth, total (years)",
         "ZH",
         "Africa Eastern and Southern"
        ],
        [
         "12",
         "AFE",
         "2012",
         "60.2495123598467",
         "",
         "",
         "0",
         "SP.DYN.LE00.IN",
         "Life expectancy at birth, total (years)",
         "ZH",
         "Africa Eastern and Southern"
        ],
        [
         "13",
         "AFE",
         "2011",
         "59.2000040300701",
         "",
         "",
         "0",
         "SP.DYN.LE00.IN",
         "Life expectancy at birth, total (years)",
         "ZH",
         "Africa Eastern and Southern"
        ],
        [
         "14",
         "AFE",
         "2010",
         "58.8272792062821",
         "",
         "",
         "0",
         "SP.DYN.LE00.IN",
         "Life expectancy at birth, total (years)",
         "ZH",
         "Africa Eastern and Southern"
        ],
        [
         "15",
         "AFE",
         "2009",
         "58.0955271436463",
         "",
         "",
         "0",
         "SP.DYN.LE00.IN",
         "Life expectancy at birth, total (years)",
         "ZH",
         "Africa Eastern and Southern"
        ],
        [
         "16",
         "AFE",
         "2008",
         "57.2401063228798",
         "",
         "",
         "0",
         "SP.DYN.LE00.IN",
         "Life expectancy at birth, total (years)",
         "ZH",
         "Africa Eastern and Southern"
        ],
        [
         "17",
         "AFE",
         "2007",
         "56.4843531784534",
         "",
         "",
         "0",
         "SP.DYN.LE00.IN",
         "Life expectancy at birth, total (years)",
         "ZH",
         "Africa Eastern and Southern"
        ],
        [
         "18",
         "AFE",
         "2006",
         "55.6935152578453",
         "",
         "",
         "0",
         "SP.DYN.LE00.IN",
         "Life expectancy at birth, total (years)",
         "ZH",
         "Africa Eastern and Southern"
        ],
        [
         "19",
         "AFE",
         "2005",
         "54.8076807136336",
         "",
         "",
         "0",
         "SP.DYN.LE00.IN",
         "Life expectancy at birth, total (years)",
         "ZH",
         "Africa Eastern and Southern"
        ],
        [
         "20",
         "AFE",
         "2004",
         "54.1929278660434",
         "",
         "",
         "0",
         "SP.DYN.LE00.IN",
         "Life expectancy at birth, total (years)",
         "ZH",
         "Africa Eastern and Southern"
        ],
        [
         "21",
         "AFE",
         "2003",
         "53.6783047685822",
         "",
         "",
         "0",
         "SP.DYN.LE00.IN",
         "Life expectancy at birth, total (years)",
         "ZH",
         "Africa Eastern and Southern"
        ],
        [
         "22",
         "AFE",
         "2002",
         "53.2067443343026",
         "",
         "",
         "0",
         "SP.DYN.LE00.IN",
         "Life expectancy at birth, total (years)",
         "ZH",
         "Africa Eastern and Southern"
        ],
        [
         "23",
         "AFE",
         "2001",
         "52.8755360536287",
         "",
         "",
         "0",
         "SP.DYN.LE00.IN",
         "Life expectancy at birth, total (years)",
         "ZH",
         "Africa Eastern and Southern"
        ],
        [
         "24",
         "AFE",
         "2000",
         "52.5573418626777",
         "",
         "",
         "0",
         "SP.DYN.LE00.IN",
         "Life expectancy at birth, total (years)",
         "ZH",
         "Africa Eastern and Southern"
        ],
        [
         "25",
         "AFE",
         "1999",
         "51.8070772449868",
         "",
         "",
         "0",
         "SP.DYN.LE00.IN",
         "Life expectancy at birth, total (years)",
         "ZH",
         "Africa Eastern and Southern"
        ],
        [
         "26",
         "AFE",
         "1998",
         "51.3179554721368",
         "",
         "",
         "0",
         "SP.DYN.LE00.IN",
         "Life expectancy at birth, total (years)",
         "ZH",
         "Africa Eastern and Southern"
        ],
        [
         "27",
         "AFE",
         "1997",
         "51.5708865171429",
         "",
         "",
         "0",
         "SP.DYN.LE00.IN",
         "Life expectancy at birth, total (years)",
         "ZH",
         "Africa Eastern and Southern"
        ],
        [
         "28",
         "AFE",
         "1996",
         "51.3531898360738",
         "",
         "",
         "0",
         "SP.DYN.LE00.IN",
         "Life expectancy at birth, total (years)",
         "ZH",
         "Africa Eastern and Southern"
        ],
        [
         "29",
         "AFE",
         "1995",
         "51.4820566813357",
         "",
         "",
         "0",
         "SP.DYN.LE00.IN",
         "Life expectancy at birth, total (years)",
         "ZH",
         "Africa Eastern and Southern"
        ],
        [
         "30",
         "AFE",
         "1994",
         "50.9665887956465",
         "",
         "",
         "0",
         "SP.DYN.LE00.IN",
         "Life expectancy at birth, total (years)",
         "ZH",
         "Africa Eastern and Southern"
        ],
        [
         "31",
         "AFE",
         "1993",
         "51.0737619133776",
         "",
         "",
         "0",
         "SP.DYN.LE00.IN",
         "Life expectancy at birth, total (years)",
         "ZH",
         "Africa Eastern and Southern"
        ],
        [
         "32",
         "AFE",
         "1992",
         "50.7159460478921",
         "",
         "",
         "0",
         "SP.DYN.LE00.IN",
         "Life expectancy at birth, total (years)",
         "ZH",
         "Africa Eastern and Southern"
        ],
        [
         "33",
         "AFE",
         "1991",
         "50.8732436063946",
         "",
         "",
         "0",
         "SP.DYN.LE00.IN",
         "Life expectancy at birth, total (years)",
         "ZH",
         "Africa Eastern and Southern"
        ],
        [
         "34",
         "AFE",
         "1990",
         "51.0963264543047",
         "",
         "",
         "0",
         "SP.DYN.LE00.IN",
         "Life expectancy at birth, total (years)",
         "ZH",
         "Africa Eastern and Southern"
        ],
        [
         "35",
         "AFE",
         "1989",
         "51.2658735140763",
         "",
         "",
         "0",
         "SP.DYN.LE00.IN",
         "Life expectancy at birth, total (years)",
         "ZH",
         "Africa Eastern and Southern"
        ],
        [
         "36",
         "AFE",
         "1988",
         "50.8766070614947",
         "",
         "",
         "0",
         "SP.DYN.LE00.IN",
         "Life expectancy at birth, total (years)",
         "ZH",
         "Africa Eastern and Southern"
        ],
        [
         "37",
         "AFE",
         "1987",
         "51.0689429320971",
         "",
         "",
         "0",
         "SP.DYN.LE00.IN",
         "Life expectancy at birth, total (years)",
         "ZH",
         "Africa Eastern and Southern"
        ],
        [
         "38",
         "AFE",
         "1986",
         "50.0097614989116",
         "",
         "",
         "0",
         "SP.DYN.LE00.IN",
         "Life expectancy at birth, total (years)",
         "ZH",
         "Africa Eastern and Southern"
        ],
        [
         "39",
         "AFE",
         "1985",
         "49.3929024640878",
         "",
         "",
         "0",
         "SP.DYN.LE00.IN",
         "Life expectancy at birth, total (years)",
         "ZH",
         "Africa Eastern and Southern"
        ],
        [
         "40",
         "AFE",
         "1984",
         "48.9979586702537",
         "",
         "",
         "0",
         "SP.DYN.LE00.IN",
         "Life expectancy at birth, total (years)",
         "ZH",
         "Africa Eastern and Southern"
        ],
        [
         "41",
         "AFE",
         "1983",
         "48.9040956565702",
         "",
         "",
         "0",
         "SP.DYN.LE00.IN",
         "Life expectancy at birth, total (years)",
         "ZH",
         "Africa Eastern and Southern"
        ],
        [
         "42",
         "AFE",
         "1982",
         "50.2908293797205",
         "",
         "",
         "0",
         "SP.DYN.LE00.IN",
         "Life expectancy at birth, total (years)",
         "ZH",
         "Africa Eastern and Southern"
        ],
        [
         "43",
         "AFE",
         "1981",
         "50.0204932967522",
         "",
         "",
         "0",
         "SP.DYN.LE00.IN",
         "Life expectancy at birth, total (years)",
         "ZH",
         "Africa Eastern and Southern"
        ],
        [
         "44",
         "AFE",
         "1980",
         "49.816713138052",
         "",
         "",
         "0",
         "SP.DYN.LE00.IN",
         "Life expectancy at birth, total (years)",
         "ZH",
         "Africa Eastern and Southern"
        ],
        [
         "45",
         "AFE",
         "1979",
         "49.4169883847351",
         "",
         "",
         "0",
         "SP.DYN.LE00.IN",
         "Life expectancy at birth, total (years)",
         "ZH",
         "Africa Eastern and Southern"
        ],
        [
         "46",
         "AFE",
         "1978",
         "48.9839167133521",
         "",
         "",
         "0",
         "SP.DYN.LE00.IN",
         "Life expectancy at birth, total (years)",
         "ZH",
         "Africa Eastern and Southern"
        ],
        [
         "47",
         "AFE",
         "1977",
         "48.8607248856663",
         "",
         "",
         "0",
         "SP.DYN.LE00.IN",
         "Life expectancy at birth, total (years)",
         "ZH",
         "Africa Eastern and Southern"
        ],
        [
         "48",
         "AFE",
         "1976",
         "48.568138198282",
         "",
         "",
         "0",
         "SP.DYN.LE00.IN",
         "Life expectancy at birth, total (years)",
         "ZH",
         "Africa Eastern and Southern"
        ],
        [
         "49",
         "AFE",
         "1975",
         "47.9685480547675",
         "",
         "",
         "0",
         "SP.DYN.LE00.IN",
         "Life expectancy at birth, total (years)",
         "ZH",
         "Africa Eastern and Southern"
        ]
       ],
       "shape": {
        "columns": 10,
        "rows": 17290
       }
      },
      "text/html": [
       "<div>\n",
       "<style scoped>\n",
       "    .dataframe tbody tr th:only-of-type {\n",
       "        vertical-align: middle;\n",
       "    }\n",
       "\n",
       "    .dataframe tbody tr th {\n",
       "        vertical-align: top;\n",
       "    }\n",
       "\n",
       "    .dataframe thead th {\n",
       "        text-align: right;\n",
       "    }\n",
       "</style>\n",
       "<table border=\"1\" class=\"dataframe\">\n",
       "  <thead>\n",
       "    <tr style=\"text-align: right;\">\n",
       "      <th></th>\n",
       "      <th>countryiso3code</th>\n",
       "      <th>date</th>\n",
       "      <th>value</th>\n",
       "      <th>unit</th>\n",
       "      <th>obs_status</th>\n",
       "      <th>decimal</th>\n",
       "      <th>indicator.id</th>\n",
       "      <th>indicator.value</th>\n",
       "      <th>country.id</th>\n",
       "      <th>country.value</th>\n",
       "    </tr>\n",
       "  </thead>\n",
       "  <tbody>\n",
       "    <tr>\n",
       "      <th>0</th>\n",
       "      <td>AFE</td>\n",
       "      <td>2024</td>\n",
       "      <td>NaN</td>\n",
       "      <td></td>\n",
       "      <td></td>\n",
       "      <td>0</td>\n",
       "      <td>SP.DYN.LE00.IN</td>\n",
       "      <td>Life expectancy at birth, total (years)</td>\n",
       "      <td>ZH</td>\n",
       "      <td>Africa Eastern and Southern</td>\n",
       "    </tr>\n",
       "    <tr>\n",
       "      <th>1</th>\n",
       "      <td>AFE</td>\n",
       "      <td>2023</td>\n",
       "      <td>65.146291</td>\n",
       "      <td></td>\n",
       "      <td></td>\n",
       "      <td>0</td>\n",
       "      <td>SP.DYN.LE00.IN</td>\n",
       "      <td>Life expectancy at birth, total (years)</td>\n",
       "      <td>ZH</td>\n",
       "      <td>Africa Eastern and Southern</td>\n",
       "    </tr>\n",
       "    <tr>\n",
       "      <th>2</th>\n",
       "      <td>AFE</td>\n",
       "      <td>2022</td>\n",
       "      <td>64.487020</td>\n",
       "      <td></td>\n",
       "      <td></td>\n",
       "      <td>0</td>\n",
       "      <td>SP.DYN.LE00.IN</td>\n",
       "      <td>Life expectancy at birth, total (years)</td>\n",
       "      <td>ZH</td>\n",
       "      <td>Africa Eastern and Southern</td>\n",
       "    </tr>\n",
       "    <tr>\n",
       "      <th>3</th>\n",
       "      <td>AFE</td>\n",
       "      <td>2021</td>\n",
       "      <td>62.979999</td>\n",
       "      <td></td>\n",
       "      <td></td>\n",
       "      <td>0</td>\n",
       "      <td>SP.DYN.LE00.IN</td>\n",
       "      <td>Life expectancy at birth, total (years)</td>\n",
       "      <td>ZH</td>\n",
       "      <td>Africa Eastern and Southern</td>\n",
       "    </tr>\n",
       "    <tr>\n",
       "      <th>4</th>\n",
       "      <td>AFE</td>\n",
       "      <td>2020</td>\n",
       "      <td>63.766484</td>\n",
       "      <td></td>\n",
       "      <td></td>\n",
       "      <td>0</td>\n",
       "      <td>SP.DYN.LE00.IN</td>\n",
       "      <td>Life expectancy at birth, total (years)</td>\n",
       "      <td>ZH</td>\n",
       "      <td>Africa Eastern and Southern</td>\n",
       "    </tr>\n",
       "    <tr>\n",
       "      <th>...</th>\n",
       "      <td>...</td>\n",
       "      <td>...</td>\n",
       "      <td>...</td>\n",
       "      <td>...</td>\n",
       "      <td>...</td>\n",
       "      <td>...</td>\n",
       "      <td>...</td>\n",
       "      <td>...</td>\n",
       "      <td>...</td>\n",
       "      <td>...</td>\n",
       "    </tr>\n",
       "    <tr>\n",
       "      <th>17285</th>\n",
       "      <td>ZWE</td>\n",
       "      <td>1964</td>\n",
       "      <td>55.431000</td>\n",
       "      <td></td>\n",
       "      <td></td>\n",
       "      <td>0</td>\n",
       "      <td>SP.DYN.LE00.IN</td>\n",
       "      <td>Life expectancy at birth, total (years)</td>\n",
       "      <td>ZW</td>\n",
       "      <td>Zimbabwe</td>\n",
       "    </tr>\n",
       "    <tr>\n",
       "      <th>17286</th>\n",
       "      <td>ZWE</td>\n",
       "      <td>1963</td>\n",
       "      <td>54.942000</td>\n",
       "      <td></td>\n",
       "      <td></td>\n",
       "      <td>0</td>\n",
       "      <td>SP.DYN.LE00.IN</td>\n",
       "      <td>Life expectancy at birth, total (years)</td>\n",
       "      <td>ZW</td>\n",
       "      <td>Zimbabwe</td>\n",
       "    </tr>\n",
       "    <tr>\n",
       "      <th>17287</th>\n",
       "      <td>ZWE</td>\n",
       "      <td>1962</td>\n",
       "      <td>54.453000</td>\n",
       "      <td></td>\n",
       "      <td></td>\n",
       "      <td>0</td>\n",
       "      <td>SP.DYN.LE00.IN</td>\n",
       "      <td>Life expectancy at birth, total (years)</td>\n",
       "      <td>ZW</td>\n",
       "      <td>Zimbabwe</td>\n",
       "    </tr>\n",
       "    <tr>\n",
       "      <th>17288</th>\n",
       "      <td>ZWE</td>\n",
       "      <td>1961</td>\n",
       "      <td>53.966000</td>\n",
       "      <td></td>\n",
       "      <td></td>\n",
       "      <td>0</td>\n",
       "      <td>SP.DYN.LE00.IN</td>\n",
       "      <td>Life expectancy at birth, total (years)</td>\n",
       "      <td>ZW</td>\n",
       "      <td>Zimbabwe</td>\n",
       "    </tr>\n",
       "    <tr>\n",
       "      <th>17289</th>\n",
       "      <td>ZWE</td>\n",
       "      <td>1960</td>\n",
       "      <td>53.492000</td>\n",
       "      <td></td>\n",
       "      <td></td>\n",
       "      <td>0</td>\n",
       "      <td>SP.DYN.LE00.IN</td>\n",
       "      <td>Life expectancy at birth, total (years)</td>\n",
       "      <td>ZW</td>\n",
       "      <td>Zimbabwe</td>\n",
       "    </tr>\n",
       "  </tbody>\n",
       "</table>\n",
       "<p>17290 rows × 10 columns</p>\n",
       "</div>"
      ],
      "text/plain": [
       "      countryiso3code  date      value unit obs_status  decimal  \\\n",
       "0                 AFE  2024        NaN                        0   \n",
       "1                 AFE  2023  65.146291                        0   \n",
       "2                 AFE  2022  64.487020                        0   \n",
       "3                 AFE  2021  62.979999                        0   \n",
       "4                 AFE  2020  63.766484                        0   \n",
       "...               ...   ...        ...  ...        ...      ...   \n",
       "17285             ZWE  1964  55.431000                        0   \n",
       "17286             ZWE  1963  54.942000                        0   \n",
       "17287             ZWE  1962  54.453000                        0   \n",
       "17288             ZWE  1961  53.966000                        0   \n",
       "17289             ZWE  1960  53.492000                        0   \n",
       "\n",
       "         indicator.id                          indicator.value country.id  \\\n",
       "0      SP.DYN.LE00.IN  Life expectancy at birth, total (years)         ZH   \n",
       "1      SP.DYN.LE00.IN  Life expectancy at birth, total (years)         ZH   \n",
       "2      SP.DYN.LE00.IN  Life expectancy at birth, total (years)         ZH   \n",
       "3      SP.DYN.LE00.IN  Life expectancy at birth, total (years)         ZH   \n",
       "4      SP.DYN.LE00.IN  Life expectancy at birth, total (years)         ZH   \n",
       "...               ...                                      ...        ...   \n",
       "17285  SP.DYN.LE00.IN  Life expectancy at birth, total (years)         ZW   \n",
       "17286  SP.DYN.LE00.IN  Life expectancy at birth, total (years)         ZW   \n",
       "17287  SP.DYN.LE00.IN  Life expectancy at birth, total (years)         ZW   \n",
       "17288  SP.DYN.LE00.IN  Life expectancy at birth, total (years)         ZW   \n",
       "17289  SP.DYN.LE00.IN  Life expectancy at birth, total (years)         ZW   \n",
       "\n",
       "                     country.value  \n",
       "0      Africa Eastern and Southern  \n",
       "1      Africa Eastern and Southern  \n",
       "2      Africa Eastern and Southern  \n",
       "3      Africa Eastern and Southern  \n",
       "4      Africa Eastern and Southern  \n",
       "...                            ...  \n",
       "17285                     Zimbabwe  \n",
       "17286                     Zimbabwe  \n",
       "17287                     Zimbabwe  \n",
       "17288                     Zimbabwe  \n",
       "17289                     Zimbabwe  \n",
       "\n",
       "[17290 rows x 10 columns]"
      ]
     },
     "execution_count": 238,
     "metadata": {},
     "output_type": "execute_result"
    }
   ],
   "source": [
    "# Convert the list of dictionaries to a normalized dataframe\n",
    "life_df = pd.json_normalize(all_life_data)\n",
    "\n",
    "# Check DataFrame\n",
    "print('DataFrame head after normalization')\n",
    "life_df"
   ]
  },
  {
   "cell_type": "markdown",
   "id": "ac234446",
   "metadata": {},
   "source": [
    "3. Merge the two results DataFrames together. You may want to rename or drop columns prior to merging."
   ]
  },
  {
   "cell_type": "code",
   "execution_count": 254,
   "id": "f7b1b796",
   "metadata": {},
   "outputs": [
    {
     "name": "stdout",
     "output_type": "stream",
     "text": [
      "GDP DataFrame columns:\n",
      "['countryiso3code', 'date', 'value', 'unit', 'obs_status', 'decimal', 'indicator.id', 'indicator.value', 'country.id', 'country.value']\n",
      "\n",
      "Life Expectancy DataFrame columns:\n",
      "['countryiso3code', 'date', 'value', 'unit', 'obs_status', 'decimal', 'indicator.id', 'indicator.value', 'country.id', 'country.value']\n",
      "\n",
      "GDP DataFrame head:\n",
      "  countryiso3code  date        value unit obs_status  decimal  \\\n",
      "0             AFE  2024  3968.963751                        0   \n",
      "1             AFE  2023  3948.142721                        0   \n",
      "2             AFE  2022  3974.244214                        0   \n",
      "3             AFE  2021  3933.580905                        0   \n",
      "4             AFE  2020  3861.068816                        0   \n",
      "\n",
      "        indicator.id                                    indicator.value  \\\n",
      "0  NY.GDP.PCAP.PP.KD  GDP per capita, PPP (constant 2021 internation...   \n",
      "1  NY.GDP.PCAP.PP.KD  GDP per capita, PPP (constant 2021 internation...   \n",
      "2  NY.GDP.PCAP.PP.KD  GDP per capita, PPP (constant 2021 internation...   \n",
      "3  NY.GDP.PCAP.PP.KD  GDP per capita, PPP (constant 2021 internation...   \n",
      "4  NY.GDP.PCAP.PP.KD  GDP per capita, PPP (constant 2021 internation...   \n",
      "\n",
      "  country.id                country.value  \n",
      "0         ZH  Africa Eastern and Southern  \n",
      "1         ZH  Africa Eastern and Southern  \n",
      "2         ZH  Africa Eastern and Southern  \n",
      "3         ZH  Africa Eastern and Southern  \n",
      "4         ZH  Africa Eastern and Southern  \n",
      "\n",
      "Life Expectancy DataFrame head:\n",
      "  countryiso3code  date      value unit obs_status  decimal    indicator.id  \\\n",
      "0             AFE  2024        NaN                        0  SP.DYN.LE00.IN   \n",
      "1             AFE  2023  65.146291                        0  SP.DYN.LE00.IN   \n",
      "2             AFE  2022  64.487020                        0  SP.DYN.LE00.IN   \n",
      "3             AFE  2021  62.979999                        0  SP.DYN.LE00.IN   \n",
      "4             AFE  2020  63.766484                        0  SP.DYN.LE00.IN   \n",
      "\n",
      "                           indicator.value country.id  \\\n",
      "0  Life expectancy at birth, total (years)         ZH   \n",
      "1  Life expectancy at birth, total (years)         ZH   \n",
      "2  Life expectancy at birth, total (years)         ZH   \n",
      "3  Life expectancy at birth, total (years)         ZH   \n",
      "4  Life expectancy at birth, total (years)         ZH   \n",
      "\n",
      "                 country.value  \n",
      "0  Africa Eastern and Southern  \n",
      "1  Africa Eastern and Southern  \n",
      "2  Africa Eastern and Southern  \n",
      "3  Africa Eastern and Southern  \n",
      "4  Africa Eastern and Southern  \n"
     ]
    }
   ],
   "source": [
    "# Check columns in GDP DataFrame\n",
    "print('GDP DataFrame columns:')\n",
    "print(gdp_df.columns.tolist())\n",
    "\n",
    "# Check columns in Life Expectancy DataFrame\n",
    "print('\\nLife Expectancy DataFrame columns:')\n",
    "print(life_df.columns.tolist())\n",
    "\n",
    "# Preview first few rows of each\n",
    "print('\\nGDP DataFrame head:')\n",
    "print(gdp_df.head())\n",
    "\n",
    "print('\\nLife Expectancy DataFrame head:')\n",
    "print(life_df.head())"
   ]
  },
  {
   "cell_type": "code",
   "execution_count": 255,
   "id": "c98b89a8",
   "metadata": {},
   "outputs": [],
   "source": [
    "# Rename 'value' to distinguish the indicators\n",
    "gdp_df_col = gdp_df.rename(columns={'value': 'GDP_per_capita'})\n",
    "life_df_col = life_df.rename(columns={'value': 'Life_expectancy'})"
   ]
  },
  {
   "cell_type": "code",
   "execution_count": 256,
   "id": "cc1b4812",
   "metadata": {},
   "outputs": [],
   "source": [
    "# Keep only necessary columns\n",
    "gdp_df_final = gdp_df_col[['country.value', 'countryiso3code', 'date', 'GDP_per_capita']]\n",
    "life_df_final = life_df_col[['countryiso3code', 'date', 'Life_expectancy']]"
   ]
  },
  {
   "cell_type": "code",
   "execution_count": 257,
   "id": "54fdbd08",
   "metadata": {},
   "outputs": [
    {
     "name": "stdout",
     "output_type": "stream",
     "text": [
      "GDP DataFrame:\n"
     ]
    },
    {
     "data": {
      "application/vnd.microsoft.datawrangler.viewer.v0+json": {
       "columns": [
        {
         "name": "index",
         "rawType": "int64",
         "type": "integer"
        },
        {
         "name": "country.value",
         "rawType": "object",
         "type": "string"
        },
        {
         "name": "countryiso3code",
         "rawType": "object",
         "type": "string"
        },
        {
         "name": "date",
         "rawType": "object",
         "type": "string"
        },
        {
         "name": "GDP_per_capita",
         "rawType": "float64",
         "type": "float"
        }
       ],
       "ref": "36d7fcb1-7bed-44e7-a76a-741e0fd6ff93",
       "rows": [
        [
         "0",
         "Africa Eastern and Southern",
         "AFE",
         "2024",
         "3968.96375122681"
        ],
        [
         "1",
         "Africa Eastern and Southern",
         "AFE",
         "2023",
         "3948.14272105098"
        ],
        [
         "2",
         "Africa Eastern and Southern",
         "AFE",
         "2022",
         "3974.24421369721"
        ],
        [
         "3",
         "Africa Eastern and Southern",
         "AFE",
         "2021",
         "3933.58090529567"
        ],
        [
         "4",
         "Africa Eastern and Southern",
         "AFE",
         "2020",
         "3861.06881616553"
        ],
        [
         "5",
         "Africa Eastern and Southern",
         "AFE",
         "2019",
         "4073.65398935977"
        ],
        [
         "6",
         "Africa Eastern and Southern",
         "AFE",
         "2018",
         "4088.40283108133"
        ],
        [
         "7",
         "Africa Eastern and Southern",
         "AFE",
         "2017",
         "4085.46623293064"
        ],
        [
         "8",
         "Africa Eastern and Southern",
         "AFE",
         "2016",
         "4074.18759130693"
        ],
        [
         "9",
         "Africa Eastern and Southern",
         "AFE",
         "2015",
         "4075.15966127461"
        ],
        [
         "10",
         "Africa Eastern and Southern",
         "AFE",
         "2014",
         "4052.02469329039"
        ],
        [
         "11",
         "Africa Eastern and Southern",
         "AFE",
         "2013",
         "3990.23757835255"
        ],
        [
         "12",
         "Africa Eastern and Southern",
         "AFE",
         "2012",
         "3930.40072555055"
        ],
        [
         "13",
         "Africa Eastern and Southern",
         "AFE",
         "2011",
         "3923.03721753167"
        ],
        [
         "14",
         "Africa Eastern and Southern",
         "AFE",
         "2010",
         "3862.65127876421"
        ],
        [
         "15",
         "Africa Eastern and Southern",
         "AFE",
         "2009",
         "3768.18601622238"
        ],
        [
         "16",
         "Africa Eastern and Southern",
         "AFE",
         "2008",
         "3836.01907316478"
        ],
        [
         "17",
         "Africa Eastern and Southern",
         "AFE",
         "2007",
         "3766.89717949646"
        ],
        [
         "18",
         "Africa Eastern and Southern",
         "AFE",
         "2006",
         "3620.75194734932"
        ],
        [
         "19",
         "Africa Eastern and Southern",
         "AFE",
         "2005",
         "3482.9408090148"
        ],
        [
         "20",
         "Africa Eastern and Southern",
         "AFE",
         "2004",
         "3361.79373004443"
        ],
        [
         "21",
         "Africa Eastern and Southern",
         "AFE",
         "2003",
         "3263.22444862075"
        ],
        [
         "22",
         "Africa Eastern and Southern",
         "AFE",
         "2002",
         "3247.65591083583"
        ],
        [
         "23",
         "Africa Eastern and Southern",
         "AFE",
         "2001",
         "3207.57029489769"
        ],
        [
         "24",
         "Africa Eastern and Southern",
         "AFE",
         "2000",
         "3175.46723177352"
        ],
        [
         "25",
         "Africa Eastern and Southern",
         "AFE",
         "1999",
         "3156.34994455405"
        ],
        [
         "26",
         "Africa Eastern and Southern",
         "AFE",
         "1998",
         "3154.03765386441"
        ],
        [
         "27",
         "Africa Eastern and Southern",
         "AFE",
         "1997",
         "3176.42260896193"
        ],
        [
         "28",
         "Africa Eastern and Southern",
         "AFE",
         "1996",
         "3132.14514955912"
        ],
        [
         "29",
         "Africa Eastern and Southern",
         "AFE",
         "1995",
         "3047.01845671999"
        ],
        [
         "30",
         "Africa Eastern and Southern",
         "AFE",
         "1994",
         "2992.56630147956"
        ],
        [
         "31",
         "Africa Eastern and Southern",
         "AFE",
         "1993",
         "3022.85987931668"
        ],
        [
         "32",
         "Africa Eastern and Southern",
         "AFE",
         "1992",
         "3133.97458611147"
        ],
        [
         "33",
         "Africa Eastern and Southern",
         "AFE",
         "1991",
         "3292.71463798141"
        ],
        [
         "34",
         "Africa Eastern and Southern",
         "AFE",
         "1990",
         "3385.67560032535"
        ],
        [
         "35",
         "Africa Eastern and Southern",
         "AFE",
         "1989",
         null
        ],
        [
         "36",
         "Africa Eastern and Southern",
         "AFE",
         "1988",
         null
        ],
        [
         "37",
         "Africa Eastern and Southern",
         "AFE",
         "1987",
         null
        ],
        [
         "38",
         "Africa Eastern and Southern",
         "AFE",
         "1986",
         null
        ],
        [
         "39",
         "Africa Eastern and Southern",
         "AFE",
         "1985",
         null
        ],
        [
         "40",
         "Africa Eastern and Southern",
         "AFE",
         "1984",
         null
        ],
        [
         "41",
         "Africa Eastern and Southern",
         "AFE",
         "1983",
         null
        ],
        [
         "42",
         "Africa Eastern and Southern",
         "AFE",
         "1982",
         null
        ],
        [
         "43",
         "Africa Eastern and Southern",
         "AFE",
         "1981",
         null
        ],
        [
         "44",
         "Africa Eastern and Southern",
         "AFE",
         "1980",
         null
        ],
        [
         "45",
         "Africa Eastern and Southern",
         "AFE",
         "1979",
         null
        ],
        [
         "46",
         "Africa Eastern and Southern",
         "AFE",
         "1978",
         null
        ],
        [
         "47",
         "Africa Eastern and Southern",
         "AFE",
         "1977",
         null
        ],
        [
         "48",
         "Africa Eastern and Southern",
         "AFE",
         "1976",
         null
        ],
        [
         "49",
         "Africa Eastern and Southern",
         "AFE",
         "1975",
         null
        ]
       ],
       "shape": {
        "columns": 4,
        "rows": 17290
       }
      },
      "text/html": [
       "<div>\n",
       "<style scoped>\n",
       "    .dataframe tbody tr th:only-of-type {\n",
       "        vertical-align: middle;\n",
       "    }\n",
       "\n",
       "    .dataframe tbody tr th {\n",
       "        vertical-align: top;\n",
       "    }\n",
       "\n",
       "    .dataframe thead th {\n",
       "        text-align: right;\n",
       "    }\n",
       "</style>\n",
       "<table border=\"1\" class=\"dataframe\">\n",
       "  <thead>\n",
       "    <tr style=\"text-align: right;\">\n",
       "      <th></th>\n",
       "      <th>country.value</th>\n",
       "      <th>countryiso3code</th>\n",
       "      <th>date</th>\n",
       "      <th>GDP_per_capita</th>\n",
       "    </tr>\n",
       "  </thead>\n",
       "  <tbody>\n",
       "    <tr>\n",
       "      <th>0</th>\n",
       "      <td>Africa Eastern and Southern</td>\n",
       "      <td>AFE</td>\n",
       "      <td>2024</td>\n",
       "      <td>3968.963751</td>\n",
       "    </tr>\n",
       "    <tr>\n",
       "      <th>1</th>\n",
       "      <td>Africa Eastern and Southern</td>\n",
       "      <td>AFE</td>\n",
       "      <td>2023</td>\n",
       "      <td>3948.142721</td>\n",
       "    </tr>\n",
       "    <tr>\n",
       "      <th>2</th>\n",
       "      <td>Africa Eastern and Southern</td>\n",
       "      <td>AFE</td>\n",
       "      <td>2022</td>\n",
       "      <td>3974.244214</td>\n",
       "    </tr>\n",
       "    <tr>\n",
       "      <th>3</th>\n",
       "      <td>Africa Eastern and Southern</td>\n",
       "      <td>AFE</td>\n",
       "      <td>2021</td>\n",
       "      <td>3933.580905</td>\n",
       "    </tr>\n",
       "    <tr>\n",
       "      <th>4</th>\n",
       "      <td>Africa Eastern and Southern</td>\n",
       "      <td>AFE</td>\n",
       "      <td>2020</td>\n",
       "      <td>3861.068816</td>\n",
       "    </tr>\n",
       "    <tr>\n",
       "      <th>...</th>\n",
       "      <td>...</td>\n",
       "      <td>...</td>\n",
       "      <td>...</td>\n",
       "      <td>...</td>\n",
       "    </tr>\n",
       "    <tr>\n",
       "      <th>17285</th>\n",
       "      <td>Zimbabwe</td>\n",
       "      <td>ZWE</td>\n",
       "      <td>1964</td>\n",
       "      <td>NaN</td>\n",
       "    </tr>\n",
       "    <tr>\n",
       "      <th>17286</th>\n",
       "      <td>Zimbabwe</td>\n",
       "      <td>ZWE</td>\n",
       "      <td>1963</td>\n",
       "      <td>NaN</td>\n",
       "    </tr>\n",
       "    <tr>\n",
       "      <th>17287</th>\n",
       "      <td>Zimbabwe</td>\n",
       "      <td>ZWE</td>\n",
       "      <td>1962</td>\n",
       "      <td>NaN</td>\n",
       "    </tr>\n",
       "    <tr>\n",
       "      <th>17288</th>\n",
       "      <td>Zimbabwe</td>\n",
       "      <td>ZWE</td>\n",
       "      <td>1961</td>\n",
       "      <td>NaN</td>\n",
       "    </tr>\n",
       "    <tr>\n",
       "      <th>17289</th>\n",
       "      <td>Zimbabwe</td>\n",
       "      <td>ZWE</td>\n",
       "      <td>1960</td>\n",
       "      <td>NaN</td>\n",
       "    </tr>\n",
       "  </tbody>\n",
       "</table>\n",
       "<p>17290 rows × 4 columns</p>\n",
       "</div>"
      ],
      "text/plain": [
       "                     country.value countryiso3code  date  GDP_per_capita\n",
       "0      Africa Eastern and Southern             AFE  2024     3968.963751\n",
       "1      Africa Eastern and Southern             AFE  2023     3948.142721\n",
       "2      Africa Eastern and Southern             AFE  2022     3974.244214\n",
       "3      Africa Eastern and Southern             AFE  2021     3933.580905\n",
       "4      Africa Eastern and Southern             AFE  2020     3861.068816\n",
       "...                            ...             ...   ...             ...\n",
       "17285                     Zimbabwe             ZWE  1964             NaN\n",
       "17286                     Zimbabwe             ZWE  1963             NaN\n",
       "17287                     Zimbabwe             ZWE  1962             NaN\n",
       "17288                     Zimbabwe             ZWE  1961             NaN\n",
       "17289                     Zimbabwe             ZWE  1960             NaN\n",
       "\n",
       "[17290 rows x 4 columns]"
      ]
     },
     "execution_count": 257,
     "metadata": {},
     "output_type": "execute_result"
    }
   ],
   "source": [
    "# Check gdp_df\n",
    "print('GDP DataFrame:')\n",
    "gdp_df_final"
   ]
  },
  {
   "cell_type": "code",
   "execution_count": 258,
   "id": "a67e2b16",
   "metadata": {},
   "outputs": [
    {
     "name": "stdout",
     "output_type": "stream",
     "text": [
      "Life Expectancy DataFrame:\n"
     ]
    },
    {
     "data": {
      "application/vnd.microsoft.datawrangler.viewer.v0+json": {
       "columns": [
        {
         "name": "index",
         "rawType": "int64",
         "type": "integer"
        },
        {
         "name": "countryiso3code",
         "rawType": "object",
         "type": "string"
        },
        {
         "name": "date",
         "rawType": "object",
         "type": "string"
        },
        {
         "name": "Life_expectancy",
         "rawType": "float64",
         "type": "float"
        }
       ],
       "ref": "2bfa6795-d3a1-4be7-976e-6fe5daa4949b",
       "rows": [
        [
         "0",
         "AFE",
         "2024",
         null
        ],
        [
         "1",
         "AFE",
         "2023",
         "65.146290855385"
        ],
        [
         "2",
         "AFE",
         "2022",
         "64.4870195456608"
        ],
        [
         "3",
         "AFE",
         "2021",
         "62.9799991857494"
        ],
        [
         "4",
         "AFE",
         "2020",
         "63.7664840026943"
        ],
        [
         "5",
         "AFE",
         "2019",
         "63.8572612837042"
        ],
        [
         "6",
         "AFE",
         "2018",
         "63.3306913582336"
        ],
        [
         "7",
         "AFE",
         "2017",
         "62.5912750961501"
        ],
        [
         "8",
         "AFE",
         "2016",
         "62.1679813169199"
        ],
        [
         "9",
         "AFE",
         "2015",
         "61.713030523495"
        ],
        [
         "10",
         "AFE",
         "2014",
         "61.2514360156709"
        ],
        [
         "11",
         "AFE",
         "2013",
         "60.895739752772"
        ],
        [
         "12",
         "AFE",
         "2012",
         "60.2495123598467"
        ],
        [
         "13",
         "AFE",
         "2011",
         "59.2000040300701"
        ],
        [
         "14",
         "AFE",
         "2010",
         "58.8272792062821"
        ],
        [
         "15",
         "AFE",
         "2009",
         "58.0955271436463"
        ],
        [
         "16",
         "AFE",
         "2008",
         "57.2401063228798"
        ],
        [
         "17",
         "AFE",
         "2007",
         "56.4843531784534"
        ],
        [
         "18",
         "AFE",
         "2006",
         "55.6935152578453"
        ],
        [
         "19",
         "AFE",
         "2005",
         "54.8076807136336"
        ],
        [
         "20",
         "AFE",
         "2004",
         "54.1929278660434"
        ],
        [
         "21",
         "AFE",
         "2003",
         "53.6783047685822"
        ],
        [
         "22",
         "AFE",
         "2002",
         "53.2067443343026"
        ],
        [
         "23",
         "AFE",
         "2001",
         "52.8755360536287"
        ],
        [
         "24",
         "AFE",
         "2000",
         "52.5573418626777"
        ],
        [
         "25",
         "AFE",
         "1999",
         "51.8070772449868"
        ],
        [
         "26",
         "AFE",
         "1998",
         "51.3179554721368"
        ],
        [
         "27",
         "AFE",
         "1997",
         "51.5708865171429"
        ],
        [
         "28",
         "AFE",
         "1996",
         "51.3531898360738"
        ],
        [
         "29",
         "AFE",
         "1995",
         "51.4820566813357"
        ],
        [
         "30",
         "AFE",
         "1994",
         "50.9665887956465"
        ],
        [
         "31",
         "AFE",
         "1993",
         "51.0737619133776"
        ],
        [
         "32",
         "AFE",
         "1992",
         "50.7159460478921"
        ],
        [
         "33",
         "AFE",
         "1991",
         "50.8732436063946"
        ],
        [
         "34",
         "AFE",
         "1990",
         "51.0963264543047"
        ],
        [
         "35",
         "AFE",
         "1989",
         "51.2658735140763"
        ],
        [
         "36",
         "AFE",
         "1988",
         "50.8766070614947"
        ],
        [
         "37",
         "AFE",
         "1987",
         "51.0689429320971"
        ],
        [
         "38",
         "AFE",
         "1986",
         "50.0097614989116"
        ],
        [
         "39",
         "AFE",
         "1985",
         "49.3929024640878"
        ],
        [
         "40",
         "AFE",
         "1984",
         "48.9979586702537"
        ],
        [
         "41",
         "AFE",
         "1983",
         "48.9040956565702"
        ],
        [
         "42",
         "AFE",
         "1982",
         "50.2908293797205"
        ],
        [
         "43",
         "AFE",
         "1981",
         "50.0204932967522"
        ],
        [
         "44",
         "AFE",
         "1980",
         "49.816713138052"
        ],
        [
         "45",
         "AFE",
         "1979",
         "49.4169883847351"
        ],
        [
         "46",
         "AFE",
         "1978",
         "48.9839167133521"
        ],
        [
         "47",
         "AFE",
         "1977",
         "48.8607248856663"
        ],
        [
         "48",
         "AFE",
         "1976",
         "48.568138198282"
        ],
        [
         "49",
         "AFE",
         "1975",
         "47.9685480547675"
        ]
       ],
       "shape": {
        "columns": 3,
        "rows": 17290
       }
      },
      "text/html": [
       "<div>\n",
       "<style scoped>\n",
       "    .dataframe tbody tr th:only-of-type {\n",
       "        vertical-align: middle;\n",
       "    }\n",
       "\n",
       "    .dataframe tbody tr th {\n",
       "        vertical-align: top;\n",
       "    }\n",
       "\n",
       "    .dataframe thead th {\n",
       "        text-align: right;\n",
       "    }\n",
       "</style>\n",
       "<table border=\"1\" class=\"dataframe\">\n",
       "  <thead>\n",
       "    <tr style=\"text-align: right;\">\n",
       "      <th></th>\n",
       "      <th>countryiso3code</th>\n",
       "      <th>date</th>\n",
       "      <th>Life_expectancy</th>\n",
       "    </tr>\n",
       "  </thead>\n",
       "  <tbody>\n",
       "    <tr>\n",
       "      <th>0</th>\n",
       "      <td>AFE</td>\n",
       "      <td>2024</td>\n",
       "      <td>NaN</td>\n",
       "    </tr>\n",
       "    <tr>\n",
       "      <th>1</th>\n",
       "      <td>AFE</td>\n",
       "      <td>2023</td>\n",
       "      <td>65.146291</td>\n",
       "    </tr>\n",
       "    <tr>\n",
       "      <th>2</th>\n",
       "      <td>AFE</td>\n",
       "      <td>2022</td>\n",
       "      <td>64.487020</td>\n",
       "    </tr>\n",
       "    <tr>\n",
       "      <th>3</th>\n",
       "      <td>AFE</td>\n",
       "      <td>2021</td>\n",
       "      <td>62.979999</td>\n",
       "    </tr>\n",
       "    <tr>\n",
       "      <th>4</th>\n",
       "      <td>AFE</td>\n",
       "      <td>2020</td>\n",
       "      <td>63.766484</td>\n",
       "    </tr>\n",
       "    <tr>\n",
       "      <th>...</th>\n",
       "      <td>...</td>\n",
       "      <td>...</td>\n",
       "      <td>...</td>\n",
       "    </tr>\n",
       "    <tr>\n",
       "      <th>17285</th>\n",
       "      <td>ZWE</td>\n",
       "      <td>1964</td>\n",
       "      <td>55.431000</td>\n",
       "    </tr>\n",
       "    <tr>\n",
       "      <th>17286</th>\n",
       "      <td>ZWE</td>\n",
       "      <td>1963</td>\n",
       "      <td>54.942000</td>\n",
       "    </tr>\n",
       "    <tr>\n",
       "      <th>17287</th>\n",
       "      <td>ZWE</td>\n",
       "      <td>1962</td>\n",
       "      <td>54.453000</td>\n",
       "    </tr>\n",
       "    <tr>\n",
       "      <th>17288</th>\n",
       "      <td>ZWE</td>\n",
       "      <td>1961</td>\n",
       "      <td>53.966000</td>\n",
       "    </tr>\n",
       "    <tr>\n",
       "      <th>17289</th>\n",
       "      <td>ZWE</td>\n",
       "      <td>1960</td>\n",
       "      <td>53.492000</td>\n",
       "    </tr>\n",
       "  </tbody>\n",
       "</table>\n",
       "<p>17290 rows × 3 columns</p>\n",
       "</div>"
      ],
      "text/plain": [
       "      countryiso3code  date  Life_expectancy\n",
       "0                 AFE  2024              NaN\n",
       "1                 AFE  2023        65.146291\n",
       "2                 AFE  2022        64.487020\n",
       "3                 AFE  2021        62.979999\n",
       "4                 AFE  2020        63.766484\n",
       "...               ...   ...              ...\n",
       "17285             ZWE  1964        55.431000\n",
       "17286             ZWE  1963        54.942000\n",
       "17287             ZWE  1962        54.453000\n",
       "17288             ZWE  1961        53.966000\n",
       "17289             ZWE  1960        53.492000\n",
       "\n",
       "[17290 rows x 3 columns]"
      ]
     },
     "execution_count": 258,
     "metadata": {},
     "output_type": "execute_result"
    }
   ],
   "source": [
    "# Check life_df\n",
    "print('Life Expectancy DataFrame:')\n",
    "life_df_final"
   ]
  },
  {
   "cell_type": "code",
   "execution_count": 259,
   "id": "aaf597e8",
   "metadata": {},
   "outputs": [
    {
     "name": "stdout",
     "output_type": "stream",
     "text": [
      "Number of rows that will be in the inner merge: 18590\n"
     ]
    }
   ],
   "source": [
    "# Check how many matching rows exist before merging\n",
    "common_rows = pd.merge(\n",
    "    gdp_df[['countryiso3code', 'date']],  # GDP key columns\n",
    "    life_df[['countryiso3code', 'date']],  # Life Expectancy key columns\n",
    "    on=['countryiso3code', 'date'],\n",
    "    how='inner'\n",
    ")\n",
    "\n",
    "print(f\"Number of rows that will be in the inner merge: {len(common_rows)}\")"
   ]
  },
  {
   "cell_type": "code",
   "execution_count": 260,
   "id": "61df871d",
   "metadata": {},
   "outputs": [
    {
     "name": "stdout",
     "output_type": "stream",
     "text": [
      "Total rows in merged DataFrame: 18590\n"
     ]
    },
    {
     "data": {
      "application/vnd.microsoft.datawrangler.viewer.v0+json": {
       "columns": [
        {
         "name": "index",
         "rawType": "int64",
         "type": "integer"
        },
        {
         "name": "country.value",
         "rawType": "object",
         "type": "string"
        },
        {
         "name": "countryiso3code",
         "rawType": "object",
         "type": "string"
        },
        {
         "name": "date",
         "rawType": "object",
         "type": "string"
        },
        {
         "name": "GDP_per_capita",
         "rawType": "float64",
         "type": "float"
        },
        {
         "name": "Life_expectancy",
         "rawType": "float64",
         "type": "float"
        }
       ],
       "ref": "262dd7e4-ca10-4dcd-99d8-6c442d4afe13",
       "rows": [
        [
         "0",
         "Africa Eastern and Southern",
         "AFE",
         "2024",
         "3968.96375122681",
         null
        ],
        [
         "1",
         "Africa Eastern and Southern",
         "AFE",
         "2023",
         "3948.14272105098",
         "65.146290855385"
        ],
        [
         "2",
         "Africa Eastern and Southern",
         "AFE",
         "2022",
         "3974.24421369721",
         "64.4870195456608"
        ],
        [
         "3",
         "Africa Eastern and Southern",
         "AFE",
         "2021",
         "3933.58090529567",
         "62.9799991857494"
        ],
        [
         "4",
         "Africa Eastern and Southern",
         "AFE",
         "2020",
         "3861.06881616553",
         "63.7664840026943"
        ],
        [
         "5",
         "Africa Eastern and Southern",
         "AFE",
         "2019",
         "4073.65398935977",
         "63.8572612837042"
        ],
        [
         "6",
         "Africa Eastern and Southern",
         "AFE",
         "2018",
         "4088.40283108133",
         "63.3306913582336"
        ],
        [
         "7",
         "Africa Eastern and Southern",
         "AFE",
         "2017",
         "4085.46623293064",
         "62.5912750961501"
        ],
        [
         "8",
         "Africa Eastern and Southern",
         "AFE",
         "2016",
         "4074.18759130693",
         "62.1679813169199"
        ],
        [
         "9",
         "Africa Eastern and Southern",
         "AFE",
         "2015",
         "4075.15966127461",
         "61.713030523495"
        ],
        [
         "10",
         "Africa Eastern and Southern",
         "AFE",
         "2014",
         "4052.02469329039",
         "61.2514360156709"
        ],
        [
         "11",
         "Africa Eastern and Southern",
         "AFE",
         "2013",
         "3990.23757835255",
         "60.895739752772"
        ],
        [
         "12",
         "Africa Eastern and Southern",
         "AFE",
         "2012",
         "3930.40072555055",
         "60.2495123598467"
        ],
        [
         "13",
         "Africa Eastern and Southern",
         "AFE",
         "2011",
         "3923.03721753167",
         "59.2000040300701"
        ],
        [
         "14",
         "Africa Eastern and Southern",
         "AFE",
         "2010",
         "3862.65127876421",
         "58.8272792062821"
        ],
        [
         "15",
         "Africa Eastern and Southern",
         "AFE",
         "2009",
         "3768.18601622238",
         "58.0955271436463"
        ],
        [
         "16",
         "Africa Eastern and Southern",
         "AFE",
         "2008",
         "3836.01907316478",
         "57.2401063228798"
        ],
        [
         "17",
         "Africa Eastern and Southern",
         "AFE",
         "2007",
         "3766.89717949646",
         "56.4843531784534"
        ],
        [
         "18",
         "Africa Eastern and Southern",
         "AFE",
         "2006",
         "3620.75194734932",
         "55.6935152578453"
        ],
        [
         "19",
         "Africa Eastern and Southern",
         "AFE",
         "2005",
         "3482.9408090148",
         "54.8076807136336"
        ],
        [
         "20",
         "Africa Eastern and Southern",
         "AFE",
         "2004",
         "3361.79373004443",
         "54.1929278660434"
        ],
        [
         "21",
         "Africa Eastern and Southern",
         "AFE",
         "2003",
         "3263.22444862075",
         "53.6783047685822"
        ],
        [
         "22",
         "Africa Eastern and Southern",
         "AFE",
         "2002",
         "3247.65591083583",
         "53.2067443343026"
        ],
        [
         "23",
         "Africa Eastern and Southern",
         "AFE",
         "2001",
         "3207.57029489769",
         "52.8755360536287"
        ],
        [
         "24",
         "Africa Eastern and Southern",
         "AFE",
         "2000",
         "3175.46723177352",
         "52.5573418626777"
        ],
        [
         "25",
         "Africa Eastern and Southern",
         "AFE",
         "1999",
         "3156.34994455405",
         "51.8070772449868"
        ],
        [
         "26",
         "Africa Eastern and Southern",
         "AFE",
         "1998",
         "3154.03765386441",
         "51.3179554721368"
        ],
        [
         "27",
         "Africa Eastern and Southern",
         "AFE",
         "1997",
         "3176.42260896193",
         "51.5708865171429"
        ],
        [
         "28",
         "Africa Eastern and Southern",
         "AFE",
         "1996",
         "3132.14514955912",
         "51.3531898360738"
        ],
        [
         "29",
         "Africa Eastern and Southern",
         "AFE",
         "1995",
         "3047.01845671999",
         "51.4820566813357"
        ],
        [
         "30",
         "Africa Eastern and Southern",
         "AFE",
         "1994",
         "2992.56630147956",
         "50.9665887956465"
        ],
        [
         "31",
         "Africa Eastern and Southern",
         "AFE",
         "1993",
         "3022.85987931668",
         "51.0737619133776"
        ],
        [
         "32",
         "Africa Eastern and Southern",
         "AFE",
         "1992",
         "3133.97458611147",
         "50.7159460478921"
        ],
        [
         "33",
         "Africa Eastern and Southern",
         "AFE",
         "1991",
         "3292.71463798141",
         "50.8732436063946"
        ],
        [
         "34",
         "Africa Eastern and Southern",
         "AFE",
         "1990",
         "3385.67560032535",
         "51.0963264543047"
        ],
        [
         "35",
         "Africa Eastern and Southern",
         "AFE",
         "1989",
         null,
         "51.2658735140763"
        ],
        [
         "36",
         "Africa Eastern and Southern",
         "AFE",
         "1988",
         null,
         "50.8766070614947"
        ],
        [
         "37",
         "Africa Eastern and Southern",
         "AFE",
         "1987",
         null,
         "51.0689429320971"
        ],
        [
         "38",
         "Africa Eastern and Southern",
         "AFE",
         "1986",
         null,
         "50.0097614989116"
        ],
        [
         "39",
         "Africa Eastern and Southern",
         "AFE",
         "1985",
         null,
         "49.3929024640878"
        ],
        [
         "40",
         "Africa Eastern and Southern",
         "AFE",
         "1984",
         null,
         "48.9979586702537"
        ],
        [
         "41",
         "Africa Eastern and Southern",
         "AFE",
         "1983",
         null,
         "48.9040956565702"
        ],
        [
         "42",
         "Africa Eastern and Southern",
         "AFE",
         "1982",
         null,
         "50.2908293797205"
        ],
        [
         "43",
         "Africa Eastern and Southern",
         "AFE",
         "1981",
         null,
         "50.0204932967522"
        ],
        [
         "44",
         "Africa Eastern and Southern",
         "AFE",
         "1980",
         null,
         "49.816713138052"
        ],
        [
         "45",
         "Africa Eastern and Southern",
         "AFE",
         "1979",
         null,
         "49.4169883847351"
        ],
        [
         "46",
         "Africa Eastern and Southern",
         "AFE",
         "1978",
         null,
         "48.9839167133521"
        ],
        [
         "47",
         "Africa Eastern and Southern",
         "AFE",
         "1977",
         null,
         "48.8607248856663"
        ],
        [
         "48",
         "Africa Eastern and Southern",
         "AFE",
         "1976",
         null,
         "48.568138198282"
        ],
        [
         "49",
         "Africa Eastern and Southern",
         "AFE",
         "1975",
         null,
         "47.9685480547675"
        ]
       ],
       "shape": {
        "columns": 5,
        "rows": 18590
       }
      },
      "text/html": [
       "<div>\n",
       "<style scoped>\n",
       "    .dataframe tbody tr th:only-of-type {\n",
       "        vertical-align: middle;\n",
       "    }\n",
       "\n",
       "    .dataframe tbody tr th {\n",
       "        vertical-align: top;\n",
       "    }\n",
       "\n",
       "    .dataframe thead th {\n",
       "        text-align: right;\n",
       "    }\n",
       "</style>\n",
       "<table border=\"1\" class=\"dataframe\">\n",
       "  <thead>\n",
       "    <tr style=\"text-align: right;\">\n",
       "      <th></th>\n",
       "      <th>country.value</th>\n",
       "      <th>countryiso3code</th>\n",
       "      <th>date</th>\n",
       "      <th>GDP_per_capita</th>\n",
       "      <th>Life_expectancy</th>\n",
       "    </tr>\n",
       "  </thead>\n",
       "  <tbody>\n",
       "    <tr>\n",
       "      <th>0</th>\n",
       "      <td>Africa Eastern and Southern</td>\n",
       "      <td>AFE</td>\n",
       "      <td>2024</td>\n",
       "      <td>3968.963751</td>\n",
       "      <td>NaN</td>\n",
       "    </tr>\n",
       "    <tr>\n",
       "      <th>1</th>\n",
       "      <td>Africa Eastern and Southern</td>\n",
       "      <td>AFE</td>\n",
       "      <td>2023</td>\n",
       "      <td>3948.142721</td>\n",
       "      <td>65.146291</td>\n",
       "    </tr>\n",
       "    <tr>\n",
       "      <th>2</th>\n",
       "      <td>Africa Eastern and Southern</td>\n",
       "      <td>AFE</td>\n",
       "      <td>2022</td>\n",
       "      <td>3974.244214</td>\n",
       "      <td>64.487020</td>\n",
       "    </tr>\n",
       "    <tr>\n",
       "      <th>3</th>\n",
       "      <td>Africa Eastern and Southern</td>\n",
       "      <td>AFE</td>\n",
       "      <td>2021</td>\n",
       "      <td>3933.580905</td>\n",
       "      <td>62.979999</td>\n",
       "    </tr>\n",
       "    <tr>\n",
       "      <th>4</th>\n",
       "      <td>Africa Eastern and Southern</td>\n",
       "      <td>AFE</td>\n",
       "      <td>2020</td>\n",
       "      <td>3861.068816</td>\n",
       "      <td>63.766484</td>\n",
       "    </tr>\n",
       "    <tr>\n",
       "      <th>...</th>\n",
       "      <td>...</td>\n",
       "      <td>...</td>\n",
       "      <td>...</td>\n",
       "      <td>...</td>\n",
       "      <td>...</td>\n",
       "    </tr>\n",
       "    <tr>\n",
       "      <th>18585</th>\n",
       "      <td>Zimbabwe</td>\n",
       "      <td>ZWE</td>\n",
       "      <td>1964</td>\n",
       "      <td>NaN</td>\n",
       "      <td>55.431000</td>\n",
       "    </tr>\n",
       "    <tr>\n",
       "      <th>18586</th>\n",
       "      <td>Zimbabwe</td>\n",
       "      <td>ZWE</td>\n",
       "      <td>1963</td>\n",
       "      <td>NaN</td>\n",
       "      <td>54.942000</td>\n",
       "    </tr>\n",
       "    <tr>\n",
       "      <th>18587</th>\n",
       "      <td>Zimbabwe</td>\n",
       "      <td>ZWE</td>\n",
       "      <td>1962</td>\n",
       "      <td>NaN</td>\n",
       "      <td>54.453000</td>\n",
       "    </tr>\n",
       "    <tr>\n",
       "      <th>18588</th>\n",
       "      <td>Zimbabwe</td>\n",
       "      <td>ZWE</td>\n",
       "      <td>1961</td>\n",
       "      <td>NaN</td>\n",
       "      <td>53.966000</td>\n",
       "    </tr>\n",
       "    <tr>\n",
       "      <th>18589</th>\n",
       "      <td>Zimbabwe</td>\n",
       "      <td>ZWE</td>\n",
       "      <td>1960</td>\n",
       "      <td>NaN</td>\n",
       "      <td>53.492000</td>\n",
       "    </tr>\n",
       "  </tbody>\n",
       "</table>\n",
       "<p>18590 rows × 5 columns</p>\n",
       "</div>"
      ],
      "text/plain": [
       "                     country.value countryiso3code  date  GDP_per_capita  \\\n",
       "0      Africa Eastern and Southern             AFE  2024     3968.963751   \n",
       "1      Africa Eastern and Southern             AFE  2023     3948.142721   \n",
       "2      Africa Eastern and Southern             AFE  2022     3974.244214   \n",
       "3      Africa Eastern and Southern             AFE  2021     3933.580905   \n",
       "4      Africa Eastern and Southern             AFE  2020     3861.068816   \n",
       "...                            ...             ...   ...             ...   \n",
       "18585                     Zimbabwe             ZWE  1964             NaN   \n",
       "18586                     Zimbabwe             ZWE  1963             NaN   \n",
       "18587                     Zimbabwe             ZWE  1962             NaN   \n",
       "18588                     Zimbabwe             ZWE  1961             NaN   \n",
       "18589                     Zimbabwe             ZWE  1960             NaN   \n",
       "\n",
       "       Life_expectancy  \n",
       "0                  NaN  \n",
       "1            65.146291  \n",
       "2            64.487020  \n",
       "3            62.979999  \n",
       "4            63.766484  \n",
       "...                ...  \n",
       "18585        55.431000  \n",
       "18586        54.942000  \n",
       "18587        54.453000  \n",
       "18588        53.966000  \n",
       "18589        53.492000  \n",
       "\n",
       "[18590 rows x 5 columns]"
      ]
     },
     "execution_count": 260,
     "metadata": {},
     "output_type": "execute_result"
    }
   ],
   "source": [
    "# Merge the 2 dataframes\n",
    "merged_df = pd.merge(gdp_df_final, life_df_final, on=['countryiso3code', 'date'], how='inner')\n",
    "\n",
    "#Check the result\n",
    "print(f\"Total rows in merged DataFrame: {len(merged_df)}\")\n",
    "merged_df"
   ]
  },
  {
   "cell_type": "markdown",
   "id": "c27513cb",
   "metadata": {},
   "source": [
    "4. You can also get more information about the available countries (region, capital city, income level classification, etc.) by using the Country API. Use this API to pull in all available data. Merge this with your other datasets. Use this to now remove the rows that correspond to regions and not countries."
   ]
  },
  {
   "cell_type": "code",
   "execution_count": null,
   "id": "8a316e16",
   "metadata": {},
   "outputs": [],
   "source": []
  }
 ],
 "metadata": {
  "kernelspec": {
   "display_name": "base",
   "language": "python",
   "name": "python3"
  },
  "language_info": {
   "codemirror_mode": {
    "name": "ipython",
    "version": 3
   },
   "file_extension": ".py",
   "mimetype": "text/x-python",
   "name": "python",
   "nbconvert_exporter": "python",
   "pygments_lexer": "ipython3",
   "version": "3.13.5"
  }
 },
 "nbformat": 4,
 "nbformat_minor": 5
}
